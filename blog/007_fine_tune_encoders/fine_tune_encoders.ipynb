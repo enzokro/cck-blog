{
  "cells": [
    {
      "cell_type": "raw",
      "metadata": {
        "id": "S0uhcXqs3Rfz",
        "vscode": {
          "languageId": "raw"
        }
      },
      "source": [
        "---\n",
        "title: Fine-Tuning Embedding Models with Unsloth\n",
        "author: Chris Kroenke\n",
        "draft: false\n",
        "date: '2025-03-21'\n",
        "date-modified: '2025-03-21'\n",
        "image: modernBERT_title_image.png\n",
        "toc: true\n",
        "description: Fine-tuning a BERT embeddings model with QLoRA using unsloth and Sentence Transformers.\n",
        "tags:\n",
        "  - embeddings\n",
        "  - fine-tuning\n",
        "format:\n",
        "  html:\n",
        "    code-fold: show\n",
        "    page-layout: full\n",
        "    grid:\n",
        "      body-width: 1200px\n",
        "include-in-header:\n",
        "  - text: |\n",
        "      <style>\n",
        "      .cell-output-stdout code {\n",
        "        word-break: break-word !important;\n",
        "        white-space: pre-wrap !important;\n",
        "      }\n",
        "      </style>\n",
        "---"
      ]
    },
    {
      "cell_type": "markdown",
      "metadata": {
        "id": "m46loZZq3Rf1",
        "vscode": {
          "languageId": "plaintext"
        }
      },
      "source": [
        "# Introduction"
      ]
    },
    {
      "cell_type": "markdown",
      "metadata": {
        "id": "_3ffhfa73Rf2",
        "vscode": {
          "languageId": "plaintext"
        }
      },
      "source": [
        "We are finally at the point that many people have been waiting for: small LLMs have become quite powerful and can run on consumer GPUs. With good fine-tuning in a given domain, they even rival some of the best commercially available LLMs.\n",
        "\n",
        "This combo of being runnable and fine-tuneable on consumer hardware is possible thanks to weight quantization and LoRA adapters, respectively.\n",
        "\n",
        "This post fine-tunes a text embedding model with the unsloth and Sentence Transformers libraries. Specifically, we fine-tune a set of QLoRA adapters using a contrastive loss on a simple Question and Answer dataset."
      ]
    },
    {
      "cell_type": "markdown",
      "metadata": {
        "id": "v0SUQ1hw3Rf2"
      },
      "source": [
        "# The `unsloth` library\n",
        "\n",
        "The [`unsloth`](https://unsloth.ai/) library makes it both efficient and affordable to fine-tune transformer networks on consumer hardware.\n",
        "\n",
        "Unsloth has an ocean of starter notebooks that make it easy for anyone to fine-tune relevant, modern LLMs. Many of the notebooks use quantization setups that even fit on 8GB GPUs. If you went back a few years ago, and told people we'd be able to meaningfully fine-tune powerful, SoTA LLMs on such small cards it would have sounded outlandish.\n",
        "\n",
        "Most of their work focuses on fine-tuning decoder models, aka the LLM family of models. This makes sense given the high visibility and ever-increasing capabilities of generative networks.\n",
        "\n",
        "While generative LLMs receive much attention, there is also the flip side of the architecture coin: encoder models. These are models like BERT that transform sentences into vector embeddings that capture semantic content and relationships.\n",
        "\n",
        "Encoder models power incredibly useful tools like RAG. Despite the LLM hype, it is RAG engines that are the backbone of most LLM applications currently deployed in the wild."
      ]
    },
    {
      "cell_type": "markdown",
      "metadata": {
        "id": "W7Jj-wwL3Rf2"
      },
      "source": [
        "# RAG workhorses\n",
        "\n",
        "RAG engines rely on text embedding models, aka the encoder side of transformer networks.  \n",
        "\n",
        "There is a great post here from the creators of the recent [`modernBERT`](https://huggingface.co/blog/modernbert) model that describes how LLMs capture all the hype and fanfare, but encoding models are the actual workhorses for AI products.\n",
        "\n",
        "Unfortunately, as of writing, unsloth does not directly support fine-tuning encoder models. It's been a feature in their pipeline for a while, but they understandably have a ton of other pressing work.\n",
        "\n",
        "We can still however leverage some recent PRs, along with the Sentence Transformers library, to patch fine-tuning embeddings into unsloth.\n",
        "\n",
        "In this post, we will fine-tune an `all-MiniLM` model, specifically the recent [all-MiniLM-L12-v2](https://huggingface.co/sentence-transformers/all-MiniLM-L12-v2)."
      ]
    },
    {
      "cell_type": "markdown",
      "metadata": {
        "id": "wzbkje9y3Rf2"
      },
      "source": [
        "# Fine-tuning embeddings with unsloth and Sentence Transformers\n",
        "\n",
        "Let's describe the overall process we'll go through. We first take the all-MiniLM model and wrap it in unsloth's QLoRA adapters. Then, we again wrap the unsloth-patched model inside of a custom Sentence Transformers model. It is this final double-wrapped model that will be fine-tuned.\n",
        "\n",
        "Both Sentence Transformers and unsloth actually subclass HuggingFace's Trainer and TrainingArguments. Their APIs and functionality aren't quite identical, but are close enough for our purposes.\n",
        "\n",
        "Unsloth will handle the QLoRA adapters that make it possible to fine-tune encoder models with a tiny fraction of the parameters that full fine-tuning would have taken.\n",
        "\n",
        "Sentence Transformers will do the heavy lifting of the learning loop: preparing the input batches, computing the embeddings-specific loss, and handling the weight updates.\n",
        "\n",
        "Let's get started and put all of this together. First, we need to prepare our environment."
      ]
    },
    {
      "cell_type": "markdown",
      "metadata": {
        "id": "ljWOloSu3Rf3"
      },
      "source": [
        "## Installing Unsloth\n",
        "\n",
        "The following command installs unsloth:  \n",
        "\n",
        "```bash\n",
        "pip install unsloth\n",
        "```  \n",
        "\n",
        "Note that unsloth is under constant development. It directly patches and modifies many low-level libraries used for LLM inference and training. Because of this, it can be quite tricky to install. The default setup in their Google Colab notebooks do a specific pip installation dance that is quite handy.\n",
        "\n",
        "> You may have good luck with the simple `pip install unsloth`. Depending on your linux setup, it might not be so simple. If the simple install fails, mimic the Colab-specific pip installation below.  \n",
        "\n",
        "```bash\n",
        "# only do this if the simple pip install fails\n",
        "pip install --no-deps bitsandbytes accelerate xformers==0.0.29.post3 peft trl==0.15.2 triton cut_cross_entropy unsloth_zoo\n",
        "pip install sentencepiece protobuf datasets huggingface_hub hf_transfer\n",
        "pip install --no-deps unsloth\n",
        "```\n",
        "\n",
        "Once this is ready, we can import unsloth and get started."
      ]
    },
    {
      "cell_type": "code",
      "execution_count": 2,
      "metadata": {
        "colab": {
          "base_uri": "https://localhost:8080/"
        },
        "id": "7g5fW5Eu3Rf3",
        "outputId": "151b577e-85c8-43d4-f321-63bf23576e12"
      },
      "outputs": [
        {
          "name": "stdout",
          "output_type": "stream",
          "text": [
            "🦥 Unsloth: Will patch your computer to enable 2x faster free finetuning.\n",
            "🦥 Unsloth Zoo will now patch everything to make training faster!\n"
          ]
        }
      ],
      "source": [
        "# import unsloth first so it can patch in optimizations\n",
        "import unsloth"
      ]
    },
    {
      "cell_type": "markdown",
      "metadata": {
        "id": "SA6odVml3Rf3"
      },
      "source": [
        "Note that it's best-practice to import unsloth before anything else. This lets it patch all the lower-level libraries that it needs. Then we'll be using the `FastModel` class. This class takes a very handy `auto_class` argument that lets us load the actual encoder models."
      ]
    },
    {
      "cell_type": "code",
      "execution_count": 3,
      "metadata": {
        "id": "Samfavb93Rf3"
      },
      "outputs": [],
      "source": [
        "# loads encoder models\n",
        "from unsloth import FastModel"
      ]
    },
    {
      "cell_type": "markdown",
      "metadata": {
        "id": "9voZ254P3Rf3"
      },
      "source": [
        "Now we can bring in all of our regular imports. We import all of them here for convenience."
      ]
    },
    {
      "cell_type": "code",
      "execution_count": 4,
      "metadata": {
        "id": "V8xEFfGS3Rf4"
      },
      "outputs": [],
      "source": [
        "# general imports\n",
        "from pathlib import Path\n",
        "import torch\n",
        "\n",
        "# import the huggingface classes\n",
        "from transformers import BertModel\n",
        "from datasets import load_dataset, concatenate_datasets\n",
        "from peft import LoraConfig, TaskType\n",
        "\n",
        "# import the sentence transformers classes\n",
        "import sentence_transformers\n",
        "from sentence_transformers import SentenceTransformerTrainingArguments, SentenceTransformerTrainer, SentenceTransformer\n",
        "from sentence_transformers.util import cos_sim\n",
        "from sentence_transformers.losses import MultipleNegativesRankingLoss\n",
        "from sentence_transformers.training_args import BatchSamplers\n",
        "from sentence_transformers.evaluation import InformationRetrievalEvaluator"
      ]
    },
    {
      "cell_type": "markdown",
      "metadata": {
        "id": "ylypP6l23Rf4"
      },
      "source": [
        "We can now start setting the variables we'll need. As mentioned, we're using the all-MiniLM-L12-v2 model which is part of the BERT family. "
      ]
    },
    {
      "cell_type": "code",
      "execution_count": 5,
      "metadata": {
        "id": "uvMKM7V93Rf4"
      },
      "outputs": [],
      "source": [
        "# Model Configuration\n",
        "BASE_MODEL_ID = 'sentence-transformers/all-MiniLM-L12-v2'\n",
        "BERT_MODEL = BertModel\n",
        "\n",
        "# Maximum sequence length of this model\n",
        "MAX_SEQ_LENGTH = 512\n",
        "LOAD_IN_4BIT = True  # For QLoRA (4-bit quantization)"
      ]
    },
    {
      "cell_type": "markdown",
      "metadata": {
        "id": "8FayELB33Rf4"
      },
      "source": [
        "Let's load this using `FastModel`. Note that this is the full model, before we've attached any QLoRA adapters."
      ]
    },
    {
      "cell_type": "code",
      "execution_count": 6,
      "metadata": {
        "colab": {
          "base_uri": "https://localhost:8080/"
        },
        "id": "Xe3BBl5J3Rf4",
        "outputId": "164f5884-e578-468f-cd94-418026296128"
      },
      "outputs": [
        {
          "name": "stdout",
          "output_type": "stream",
          "text": [
            "==((====))==  Unsloth 2025.4.7: Fast Bert patching. Transformers: 4.51.3.\n",
            "   \\\\   /|    NVIDIA A100-SXM4-40GB. Num GPUs = 1. Max memory: 39.557 GB. Platform: Linux.\n",
            "O^O/ \\_/ \\    Torch: 2.6.0+cu124. CUDA: 8.0. CUDA Toolkit: 12.4. Triton: 3.2.0\n",
            "\\        /    Bfloat16 = TRUE. FA [Xformers = 0.0.29.post3. FA2 = False]\n",
            " \"-____-\"     Free license: http://github.com/unslothai/unsloth\n",
            "Unsloth: Fast downloading is enabled - ignore downloading bars which are red colored!\n",
            "Loaded sentence-transformers/all-MiniLM-L12-v2 with Unsloth.\n"
          ]
        }
      ],
      "source": [
        "# load the base model optimized with unsloth\n",
        "model, tokenizer = FastModel.from_pretrained(\n",
        "    model_name = BASE_MODEL_ID,\n",
        "    auto_model = BERT_MODEL,\n",
        "    max_seq_length = MAX_SEQ_LENGTH,\n",
        "    dtype = None, # Auto-detects (BF16/FP16)\n",
        "    load_in_4bit = LOAD_IN_4BIT,\n",
        ")\n",
        "print(f\"Loaded {BASE_MODEL_ID} with Unsloth.\")"
      ]
    },
    {
      "cell_type": "markdown",
      "metadata": {
        "id": "G_iV-uuB3Rf4"
      },
      "source": [
        "## QLoRA patches\n",
        "\n",
        "Next, we'll attach the QLoRA weights to be learned using  unsloth. Unsloth has a whole set of good, hard-won default arguments for fine-tuning LLMs. From my initial experiments, it seems like some of these will need re-thinking for encoder models. But, they are certainly a solid starting point."
      ]
    },
    {
      "cell_type": "code",
      "execution_count": 7,
      "metadata": {
        "id": "_1y1nJJO3Rf4"
      },
      "outputs": [],
      "source": [
        "# LORA Configuration\n",
        "LORA_R = 16          # Rank of the LORA matrices.\n",
        "LORA_ALPHA = 32      # Rule of thumb: 2 * rank\n",
        "LORA_DROPOUT = 0.0   # Dropout of 0 is best.\n",
        "USE_RSLORA = False   # Rank-Stabilized LoRA if desired\n",
        "\n",
        "# Target modules for adapters\n",
        "LORA_TARGET_MODULES = [\"query\", \"key\", \"value\", \"dense\"]\n",
        "LORA_EXCLUDE_MODULES = [] # put anything you want to skip here\n"
      ]
    },
    {
      "cell_type": "markdown",
      "metadata": {
        "id": "GaqKw1bM3Rf4"
      },
      "source": [
        "With our QLoRA settings, we can then attach them to the base model."
      ]
    },
    {
      "cell_type": "code",
      "execution_count": 8,
      "metadata": {
        "colab": {
          "base_uri": "https://localhost:8080/"
        },
        "id": "0qSiWbf73Rf4",
        "outputId": "6a7ff81d-e1dc-4717-eee6-fc0a1cfadb5d"
      },
      "outputs": [
        {
          "name": "stdout",
          "output_type": "stream",
          "text": [
            "Attaching QLoRA adapters...\n",
            "Unsloth: Making `model.base_model.model.encoder` require gradients\n",
            "LORA adapters added.\n"
          ]
        }
      ],
      "source": [
        "print(\"Attaching QLoRA adapters...\")\n",
        "model = FastModel.get_peft_model(\n",
        "    model,\n",
        "    r = LORA_R,\n",
        "    lora_alpha = LORA_ALPHA,\n",
        "    lora_dropout = LORA_DROPOUT,\n",
        "    target_modules = LORA_TARGET_MODULES,\n",
        "    exclude_modules = LORA_EXCLUDE_MODULES,\n",
        "    use_rslora = USE_RSLORA,\n",
        "    bias = \"none\", # Standard practice for LoRA\n",
        "    use_gradient_checkpointing = \"unsloth\",\n",
        "    modules_to_save = None, # Add to train non-LORA modules\n",
        "    task_type = TaskType.FEATURE_EXTRACTION, # Important!\n",
        ")\n",
        "print(\"LORA adapters added.\")"
      ]
    },
    {
      "cell_type": "markdown",
      "metadata": {
        "id": "shqaWXUg3Rf4"
      },
      "source": [
        "A key part here is the line `task_type = TaskType.FEATURE_EXTRACTION` which prepares the models for the embeddings loss."
      ]
    },
    {
      "cell_type": "markdown",
      "metadata": {
        "id": "1Pt2qZRH3Rf4"
      },
      "source": [
        "We can see below how QLoRA only learns a fraction of the model's original parameters, making it feasible to run this training on regular consumer hardware instead of on massive GPU clusters."
      ]
    },
    {
      "cell_type": "code",
      "execution_count": 9,
      "metadata": {
        "colab": {
          "base_uri": "https://localhost:8080/"
        },
        "id": "VZloYtcC3Rf5",
        "outputId": "10219f2f-f087-4820-858a-74cd58ec8d72"
      },
      "outputs": [
        {
          "name": "stdout",
          "output_type": "stream",
          "text": [
            "trainable params: 1,339,392 || all params: 34,699,392 || trainable%: 3.8600\n"
          ]
        }
      ],
      "source": [
        "# check how many parameters we will actually learn\n",
        "model.print_trainable_parameters()"
      ]
    },
    {
      "cell_type": "markdown",
      "metadata": {
        "id": "0ebDR05Z3Rf5"
      },
      "source": [
        "## Wrapping unsloth model with Sentence Transformers\n",
        "\n",
        "To use a loss for embedding models, we need the Sentence Transformers library. Below we can follow the Sentence Transformers documentation to [create a custom model](https://sbert.net/docs/sentence_transformer/usage/custom_models.html). \n",
        "  \n",
        "First, we create a `Transformer` model. Then we manually patch in our QLoRA unsloth model and tokenizer.\n",
        "\n",
        "We also need to tell Sentence Transformers how to convert the model's final output into an embedding. This is known as the pooling stage. There are many pooling techniques, but it seems like mean-pooling is the rising star. Mean pooling means we take the token-wise average of the network's final activations and call that collapsed, single vector the embedding.\n",
        "  \n",
        "Lastly, many models include a normalization stage. This determines whether or not we scale vectors to have a uniform unit length. It's the default for sentence transformers, and in practice I've found it's saved me a lot of headache to always and only deal with normalized vectors.\n",
        "\n",
        "With our three modules ready, we pass them into a SentenceTransformer instance. This creates the final model that can be used by the library's Trainer class.\n",
        "\n",
        "> Note: you can also pass in additional arguments here that would have typically be passed to the huggingface model, such as the attention implementation.\n",
        "\n",
        "Phew. That's a lot. Let's write an annotated function this a bit clearer and our lives a bit easier."
      ]
    },
    {
      "cell_type": "code",
      "execution_count": 10,
      "metadata": {
        "colab": {
          "base_uri": "https://localhost:8080/"
        },
        "id": "TIDQzcOe3Rf5",
        "outputId": "b686f0f6-3819-47f7-ab89-3da6382500c5"
      },
      "outputs": [
        {
          "name": "stdout",
          "output_type": "stream",
          "text": [
            "Initializing Sentence Transformer modules...\n",
            "Manually assigned Unsloth LORA model to sentence_transformers.models.Transformer module.\n",
            "Using Pooling module with mode: mean\n",
            "SentenceTransformer wrapper created with custom modules.\n"
          ]
        }
      ],
      "source": [
        "# Prepare the ST model\n",
        "def get_st_unsloth_wrapper(\n",
        "        model,\n",
        "        tokenizer,\n",
        "        base_model_id=BASE_MODEL_ID,\n",
        "        pooling_mode=\"mean\",\n",
        "        max_seq_length=MAX_SEQ_LENGTH,\n",
        "        ):\n",
        "    print(\"Initializing Sentence Transformer modules...\")\n",
        "\n",
        "    # 1. Create the Transformer module instance\n",
        "    transformer_module = sentence_transformers.models.Transformer(\n",
        "        model_name_or_path=base_model_id,\n",
        "        max_seq_length=max_seq_length,\n",
        "    )\n",
        "\n",
        "    # 2. Replace the internal Hugging Face model with our LORA-patched Unsloth model\n",
        "    transformer_module.auto_model = model\n",
        "    transformer_module.tokenizer = tokenizer\n",
        "\n",
        "    print(f\"Manually assigned Unsloth LORA model to sentence_transformers.models.Transformer module.\")\n",
        "\n",
        "    # 3. Create the Pooling module\n",
        "    hidden_size = model.config.hidden_size\n",
        "    pooling_module = sentence_transformers.models.Pooling(\n",
        "        word_embedding_dimension=hidden_size,\n",
        "        pooling_mode=pooling_mode,\n",
        "    )\n",
        "    print(f\"Using Pooling module with mode: {pooling_mode}\")\n",
        "\n",
        "    # 4. Add the Normalize module\n",
        "    normalize_module = sentence_transformers.models.Normalize()\n",
        "    modules = [transformer_module, pooling_module, normalize_module]\n",
        "\n",
        "    # 5. Initialize SentenceTransformer with custom modules\n",
        "    sbert_model = SentenceTransformer(modules=modules)\n",
        "\n",
        "    print(f\"SentenceTransformer wrapper created with custom modules.\")\n",
        "    return sbert_model\n",
        "\n",
        "# wrap our unsloth model in Sentence Transformers\n",
        "sbert_model = get_st_unsloth_wrapper(\n",
        "        model,\n",
        "        tokenizer,\n",
        "        max_seq_length=MAX_SEQ_LENGTH,\n",
        "        base_model_id=BASE_MODEL_ID,\n",
        "        pooling_mode=\"mean\",\n",
        "  )"
      ]
    },
    {
      "cell_type": "markdown",
      "metadata": {
        "id": "6q7bn1063Rf5"
      },
      "source": [
        "## Data preparation\n",
        "\n",
        "We can now focus on the most important part of this whole process: the data. The data setup below is taken from Phil Schmid's [excellent guide](https://github.com/philschmid/deep-learning-pytorch-huggingface/blob/main/training/fine-tune-embedding-model-for-rag.ipynb) on fine-tuning embedding models for RAG applications. We mirror this setup because it's a fun, interesting dataset and because we're mainly focused on the unsloth and QLoRA pieces.\n",
        "\n",
        "The main thing we have to do is properly format the data for the contrastive loss we will be using.\n",
        "\n",
        "A proper deep dive into contrastive losses is far beyond the scope of this post. Here's an [excellent blog post](https://lilianweng.github.io/posts/2021-05-31-contrastive/) from Lilian Weng that teaches you all the basics (and then some) of these losses."
      ]
    },
    {
      "cell_type": "code",
      "execution_count": 11,
      "metadata": {
        "colab": {
          "base_uri": "https://localhost:8080/",
          "height": 98,
          "referenced_widgets": [
            "767fd0d66b1e4b37abe6f8313ab211df",
            "a71c29a33bf24d3092cad84cd41d04c7",
            "ab755d7a729e408fb4564c1c288f7cce",
            "9b72a3903c154d38800368f2f1826afd",
            "f323700c249d4995949d58d8369882e6",
            "9acbb4484d9a4109bd1c716149597ae0",
            "d9cddb1d1d42481996f79b0398e0baa1",
            "d7a1b98b8690409a83de6a4306bcafa2",
            "68e277c0f5ae4b2bb230eff482de6f71",
            "81b2efd0faa24844a9a7249cad24f3a2",
            "e1dfa24610f046dc83bd4de71d68275e",
            "75f01910824f48c9a95425d25c162432",
            "e1fa91589f494ae89d47a2a8649e3f46",
            "c57445bff9b64496b41c97ec3db86306",
            "96275473cd174d0b9ef38e2a2139ab5f",
            "9a015dcbcfde485fbadc36487b1bea34",
            "8fc72ce810954350b370d6fc0c510693",
            "1b88373ba3384f08b16409b768ea7b0f",
            "1094975d49164de08ac1362f3be19ef4",
            "62f0081a766a42da8912324d99154226",
            "e88e6471b1e443bbbf42160940b84028",
            "3abca4bb3cd641c4bb970f9797374056"
          ]
        },
        "id": "bZo99SAK3Rf5",
        "outputId": "458a32d2-d44c-416a-a087-c494203dab6f"
      },
      "outputs": [
        {
          "data": {
            "application/vnd.jupyter.widget-view+json": {
              "model_id": "767fd0d66b1e4b37abe6f8313ab211df",
              "version_major": 2,
              "version_minor": 0
            },
            "text/plain": [
              "Creating json from Arrow format:   0%|          | 0/7 [00:00<?, ?ba/s]"
            ]
          },
          "metadata": {},
          "output_type": "display_data"
        },
        {
          "data": {
            "application/vnd.jupyter.widget-view+json": {
              "model_id": "75f01910824f48c9a95425d25c162432",
              "version_major": 2,
              "version_minor": 0
            },
            "text/plain": [
              "Creating json from Arrow format:   0%|          | 0/1 [00:00<?, ?ba/s]"
            ]
          },
          "metadata": {},
          "output_type": "display_data"
        },
        {
          "data": {
            "text/plain": [
              "240993"
            ]
          },
          "execution_count": 11,
          "metadata": {},
          "output_type": "execute_result"
        }
      ],
      "source": [
        "# from: https://github.com/philschmid/deep-learning-pytorch-huggingface/blob/main/training/fine-tune-embedding-model-for-rag.ipynb\n",
        "\n",
        "# prepare the NVIDIA financial dataset\n",
        "from datasets import load_dataset\n",
        "\n",
        "# Load dataset from the hub\n",
        "dataset = load_dataset(\"philschmid/finanical-rag-embedding-dataset\", split=\"train\")\n",
        "\n",
        "# rename columns\n",
        "dataset = dataset.rename_column(\"question\", \"anchor\")\n",
        "dataset = dataset.rename_column(\"context\", \"positive\")\n",
        "\n",
        "# Add an id column to the dataset\n",
        "dataset = dataset.add_column(\"id\", range(len(dataset)))\n",
        "\n",
        "# split dataset into a 10% test set\n",
        "dataset = dataset.train_test_split(test_size=0.1)\n",
        "\n",
        "# save datasets to disk\n",
        "dataset[\"train\"].to_json(\"train_dataset.json\", orient=\"records\")\n",
        "dataset[\"test\"].to_json(\"test_dataset.json\", orient=\"records\")"
      ]
    },
    {
      "cell_type": "markdown",
      "metadata": {
        "id": "WR2sGyY63Rf5"
      },
      "source": [
        "The key takeaway is that all the hard research into contrastive losses has paid off tremendously: we now have a certain kind of loss called Multiple Negatives Ranking Loss (MNRL) that makes it possible to train embeddings model with loosely, implicitly labeled data like Q&A pairs.\n",
        "\n",
        "Questions and Answers became a pair of reference (anchor) and matching (positive) vectors that should be retrieved together.\n",
        "\n",
        "For any one valid pair, the model randomly picks vectors from *different* training examples in the same mini-batch to use as negatives.\n",
        "\n",
        "This means all you need to start training an embeddings model is a good set of Q&A questions. With how ubiquitous and powerful this kind of data has become thanks to SFT and reasoning-based RL, you can see how we're very close to an insanely powerful data feedback loop.\n",
        "\n",
        "And, we can always do some work to improve this loss by picking or mining better negative examples. But it is pretty outrageous and fortunate how quickly we can set up fine-tuning embeddings models with the MNRL loss.\n",
        "\n",
        "Let's go ahead and define this powerful loss function."
      ]
    },
    {
      "cell_type": "code",
      "execution_count": 12,
      "metadata": {
        "colab": {
          "base_uri": "https://localhost:8080/"
        },
        "id": "W62Lqv-k3Rf5",
        "outputId": "d9affef2-3217-4259-d1ca-2a30c0638549"
      },
      "outputs": [
        {
          "name": "stdout",
          "output_type": "stream",
          "text": [
            "Using loss: MultipleNegativesRankingLoss\n"
          ]
        }
      ],
      "source": [
        "# define the loss function\n",
        "loss = MultipleNegativesRankingLoss(sbert_model)\n",
        "print(f\"Using loss: {type(loss).__name__}\")"
      ]
    },
    {
      "cell_type": "markdown",
      "metadata": {
        "id": "3torZyNB3Rf5"
      },
      "source": [
        "The next step is to define and group up all of our training arguments. A rule of thumb is that LoRA can overfit if you train for too many epochs. So we start with just a few, but this is definitely a parameter to explore.\n",
        "\n",
        "For the batch size, you should use the largest value that fits on your GPU. This is especially important for the MNRL loss since it randomly picks negative examples from the same batch. The larger the batch size, the more random negative examples it can pick from."
      ]
    },
    {
      "cell_type": "code",
      "execution_count": 13,
      "metadata": {
        "id": "L3ve8dOy3Rf6"
      },
      "outputs": [],
      "source": [
        "## Preparing all of our training arguments\n",
        "\n",
        "# Training Configuration\n",
        "NUM_TRAIN_EPOCHS = 4                # Start with 1 epochs\n",
        "PER_DEVICE_TRAIN_BATCH_SIZE = 512   # Adjust based on GPU VRAM and MAX_SEQ_LENGTH.\n",
        "PER_DEVICE_EVAL_BATCH_SIZE = 1024   # Can usually be higher than train batch size.\n",
        "GRADIENT_ACCUMULATION_STEPS = 1     # Only for small cards\n",
        "\n",
        "# don't repeat samples in the same batch given our loss\n",
        "batch_sampler = BatchSamplers.NO_DUPLICATES if isinstance(loss, MultipleNegativesRankingLoss) else None"
      ]
    },
    {
      "cell_type": "markdown",
      "metadata": {
        "id": "klPMZoBG3Rf6"
      },
      "source": [
        "The rest of the training arguments are standard for unsloth models. However, as mentioned, QLoRA adapters for encoders are a relatively unexplored space. There are likely far more optimal values, but this is a good start."
      ]
    },
    {
      "cell_type": "code",
      "execution_count": 14,
      "metadata": {
        "id": "5E5ntVEn3Rf7"
      },
      "outputs": [],
      "source": [
        "# set lower for longer training runs\n",
        "LEARNING_RATE = 2e-4\n",
        "\n",
        "WARMUP_RATIO = 0.1                 # percent of warmup steps\n",
        "OPTIMIZER = \"adamw_torch_fused\"    # start with 8bit optimizer\n",
        "LR_SCHEDULER_TYPE = \"cosine\"       # schedule for the lr\n",
        "WEIGHT_DECAY = 0.1                 # Weight decay\n",
        "FP16 = not torch.cuda.is_bf16_supported() # Use FP16 if BF16 is not available\n",
        "BF16 = torch.cuda.is_bf16_supported()     # Use BF16 on supported GPUs (Ampere+) for stability."
      ]
    },
    {
      "cell_type": "markdown",
      "metadata": {
        "id": "UPbRcMdN3Rf7"
      },
      "source": [
        "Let's define how we'll evaluate the model. We'll also make an output directory where to save the fine-tuned model."
      ]
    },
    {
      "cell_type": "code",
      "execution_count": 15,
      "metadata": {
        "id": "DJgWjprD3Rf7"
      },
      "outputs": [],
      "source": [
        "# set the output directory\n",
        "OUTPUT_DIR = Path(\"finetuned_embeddings\")\n",
        "OUTPUT_DIR.mkdir(parents=True, exist_ok=True)\n",
        "\n",
        "# evaluation and saving\n",
        "EVAL_STEPS = 4           # evaluate every N steps\n",
        "EVAL_STRATEGY = \"steps\"\n",
        "SAVE_STEPS = 4           # save checkpoint every N steps\n",
        "SAVE_STRATEGY = \"steps\"\n",
        "SAVE_TOTAL_LIMIT = 2     # keep only the last N checkpoints\n",
        "LOGGING_STEPS = 2        # log metrics every N steps"
      ]
    },
    {
      "cell_type": "markdown",
      "metadata": {
        "id": "tigRYOhL3Rf7"
      },
      "source": [
        "Once again, the specific evaluation setup is taken from Phil Schmid's notebook. This creates a simple evaluator that's meant to mirror how relevant embeddings should be retrieved in RAG applications."
      ]
    },
    {
      "cell_type": "code",
      "execution_count": 16,
      "metadata": {
        "colab": {
          "base_uri": "https://localhost:8080/",
          "height": 81,
          "referenced_widgets": [
            "c5025f7eb4ba4a9faad592cdbcd83341",
            "cff9ee30cdc2468da3913c4f3503f94f",
            "d494966e86b84bcf850a20cce99dddfe",
            "02428034c5ea44d080ab67e6e345a792",
            "1a48677c11df4b3e9866851ff3b77cd4",
            "8b7c802357cb4864b5f8f669cd595738",
            "102ef47779a84c118380cf6e8b576b53",
            "a5c14f316c6645daa2508c45c3f23a18",
            "df75ff6d55e04826b126b785a5414c1b",
            "5034b30bca1445c395864da105d48b37",
            "19e0eb73e949455cb99a3564b0651a31",
            "2a5a620a3c6641aab322ffbbf66cc102",
            "63f1308e485441ab9ef262d1a9612f7f",
            "5df94590e59c45258e7d8ca628dab62b",
            "061aadcefaf24bebbde1402fd6afbc61",
            "1582599c2d2e435799cb1004436002bf",
            "c18b19a5db4646f7868fbc0ed3fc6c51",
            "91492127d3234c2c9006da7eb68310a2",
            "c736edd813374ba2a573f7c8d7b7edf5",
            "b356a382e4b7458f8105b81d32255e97",
            "c6cf3427c6334609951e89576396617c",
            "dccf5f55501f4354901e7a7678bf1e84"
          ]
        },
        "id": "fUu2itFC3Rf7",
        "outputId": "c83fea5c-dc68-4c1b-c346-f0877dbf419a"
      },
      "outputs": [
        {
          "data": {
            "application/vnd.jupyter.widget-view+json": {
              "model_id": "c5025f7eb4ba4a9faad592cdbcd83341",
              "version_major": 2,
              "version_minor": 0
            },
            "text/plain": [
              "Generating train split: 0 examples [00:00, ? examples/s]"
            ]
          },
          "metadata": {},
          "output_type": "display_data"
        },
        {
          "data": {
            "application/vnd.jupyter.widget-view+json": {
              "model_id": "2a5a620a3c6641aab322ffbbf66cc102",
              "version_major": 2,
              "version_minor": 0
            },
            "text/plain": [
              "Generating train split: 0 examples [00:00, ? examples/s]"
            ]
          },
          "metadata": {},
          "output_type": "display_data"
        }
      ],
      "source": [
        "# load test dataset\n",
        "test_dataset = load_dataset(\"json\", data_files=\"test_dataset.json\", split=\"train\")\n",
        "train_dataset = load_dataset(\"json\", data_files=\"train_dataset.json\", split=\"train\")\n",
        "corpus_dataset = concatenate_datasets([train_dataset, test_dataset])\n",
        "\n",
        "# Convert the datasets to dictionaries\n",
        "corpus = dict(\n",
        "    zip(corpus_dataset[\"id\"], corpus_dataset[\"positive\"])\n",
        ")  # Our corpus (cid => document)\n",
        "queries = dict(\n",
        "    zip(test_dataset[\"id\"], test_dataset[\"anchor\"])\n",
        ")  # Our queries (qid => question)\n",
        "\n",
        "# Create a mapping of relevant document (1 in our case) for each query\n",
        "relevant_docs = {}  # Query ID to relevant documents (qid => set([relevant_cids])\n",
        "for q_id in queries:\n",
        "    relevant_docs[q_id] = [q_id]\n",
        "\n",
        "\n",
        "evaluator = InformationRetrievalEvaluator(\n",
        "    queries=queries,\n",
        "    corpus=corpus,\n",
        "    relevant_docs=relevant_docs,\n",
        "    score_functions={\"cosine\": cos_sim},\n",
        "    name=\"ir-eval\"\n",
        ")"
      ]
    },
    {
      "cell_type": "markdown",
      "metadata": {},
      "source": [
        "With all the work done, we can now group up the training arguments."
      ]
    },
    {
      "cell_type": "code",
      "execution_count": 17,
      "metadata": {
        "colab": {
          "base_uri": "https://localhost:8080/"
        },
        "id": "HgrIr3rh3Rf7",
        "outputId": "420b5094-b496-44c8-fea9-09581e3546fd"
      },
      "outputs": [
        {
          "name": "stdout",
          "output_type": "stream",
          "text": [
            "Defining training arguments...\n"
          ]
        }
      ],
      "source": [
        "print(\"Defining training arguments...\")\n",
        "args = SentenceTransformerTrainingArguments(\n",
        "    # Core Training Parameters\n",
        "    output_dir=str(OUTPUT_DIR),\n",
        "    num_train_epochs=NUM_TRAIN_EPOCHS,\n",
        "    per_device_train_batch_size=PER_DEVICE_TRAIN_BATCH_SIZE,\n",
        "    per_device_eval_batch_size=PER_DEVICE_EVAL_BATCH_SIZE,\n",
        "    gradient_accumulation_steps=GRADIENT_ACCUMULATION_STEPS,\n",
        "    learning_rate=LEARNING_RATE,\n",
        "    lr_scheduler_type=LR_SCHEDULER_TYPE,\n",
        "    warmup_ratio=WARMUP_RATIO,\n",
        "    weight_decay=WEIGHT_DECAY,\n",
        "    optim=OPTIMIZER,\n",
        "    batch_sampler=batch_sampler,\n",
        "    fp16=FP16,\n",
        "    bf16=BF16,\n",
        "    tf32=True, # NOTE: gpu must support\n",
        "    fp16_full_eval=True,\n",
        "    # Evaluation and Saving\n",
        "    eval_strategy=EVAL_STRATEGY,\n",
        "    eval_steps=EVAL_STEPS,\n",
        "    save_strategy=SAVE_STRATEGY,\n",
        "    save_steps=SAVE_STEPS,\n",
        "    save_total_limit=SAVE_TOTAL_LIMIT,\n",
        "    load_best_model_at_end=True if evaluator else False,\n",
        "    metric_for_best_model=\"eval_ir-eval_cosine_ndcg@10\" if evaluator and isinstance(evaluator, InformationRetrievalEvaluator) else None,\n",
        "    greater_is_better=True,\n",
        "    # Logging and Reporting\n",
        "    logging_steps=LOGGING_STEPS,\n",
        "    report_to=\"tensorboard\",\n",
        "    run_name=f\"{BASE_MODEL_ID.split('/')[-1]}-st-finetune\",\n",
        "    seed=42,\n",
        ")"
      ]
    },
    {
      "cell_type": "markdown",
      "metadata": {
        "id": "V9qNqy943Rf7"
      },
      "source": [
        "# Preparing the Trainer"
      ]
    },
    {
      "cell_type": "markdown",
      "metadata": {},
      "source": [
        "We have everything we need to start training:\n",
        "- A model.\n",
        "- Training and evaluation datasets.\n",
        "- A loss function. \n",
        "\n",
        "We can wrap all of these in a `SentenceTransformerTrainer` and off we go."
      ]
    },
    {
      "cell_type": "code",
      "execution_count": 18,
      "metadata": {
        "colab": {
          "base_uri": "https://localhost:8080/",
          "height": 34,
          "referenced_widgets": [
            "94450f11b05b46bfa1205e2fdd50a0c7",
            "4f9c86746751416dbc341a656f0128d9",
            "90a5a6747d704cc09695dbb105848839",
            "0857d6ad6b364bebb36b8e288852909e",
            "7b51bd73e7a44ac3bbb7ddb5901b123f",
            "9c0e6dcf695149caadb21e020921d4de",
            "af94039275094debba03f5174465523e",
            "8a2fd0e1600d41fba488cfa27eb5807f",
            "cda24b57ff1644d48f789ce22f2a636b",
            "014e58040ade4ee3ad6106d3c30f8b4a",
            "9c6654f07bf84c798fa69c3e3921329e"
          ]
        },
        "id": "XxHcT-r-3Rf8",
        "outputId": "c0d48bd5-1ee1-40f5-d84d-2685acb61e9c"
      },
      "outputs": [
        {
          "name": "stdout",
          "output_type": "stream",
          "text": [
            "Initializing SentenceTransformerTrainer...\n"
          ]
        },
        {
          "data": {
            "application/vnd.jupyter.widget-view+json": {
              "model_id": "94450f11b05b46bfa1205e2fdd50a0c7",
              "version_major": 2,
              "version_minor": 0
            },
            "text/plain": [
              "Computing widget examples:   0%|          | 0/1 [00:00<?, ?example/s]"
            ]
          },
          "metadata": {},
          "output_type": "display_data"
        }
      ],
      "source": [
        "print(\"Initializing SentenceTransformerTrainer...\")\n",
        "trainer = SentenceTransformerTrainer(\n",
        "    model=sbert_model, # Pass the standard SentenceTransformer model\n",
        "    args=args,\n",
        "    train_dataset=train_dataset.select_columns([\"anchor\", \"positive\"]),\n",
        "    eval_dataset=test_dataset.select_columns([\"anchor\", \"positive\"]) if evaluator else None,\n",
        "    loss=loss,\n",
        "    evaluator=evaluator,\n",
        "    callbacks=[],\n",
        ")"
      ]
    },
    {
      "cell_type": "markdown",
      "metadata": {},
      "source": [
        "Drumroll... and train the model! "
      ]
    },
    {
      "cell_type": "code",
      "execution_count": 19,
      "metadata": {
        "colab": {
          "base_uri": "https://localhost:8080/",
          "height": 659
        },
        "id": "7F82Z0Mg4cf3",
        "outputId": "75d6ca16-49fc-4a69-ca45-551dc6e95419"
      },
      "outputs": [
        {
          "name": "stderr",
          "output_type": "stream",
          "text": [
            "==((====))==  Unsloth - 2x faster free finetuning | Num GPUs used = 1\n",
            "   \\\\   /|    Num examples = 6,300 | Num Epochs = 4 | Total steps = 52\n",
            "O^O/ \\_/ \\    Batch size per device = 512 | Gradient accumulation steps = 1\n",
            "\\        /    Data Parallel GPUs = 1 | Total batch size (512 x 1 x 1) = 512\n",
            " \"-____-\"     Trainable parameters = 1,339,392/24,008,832 (5.58% trained)\n"
          ]
        },
        {
          "data": {
            "text/html": [
              "\n",
              "    <div>\n",
              "      \n",
              "      <progress value='52' max='52' style='width:300px; height:20px; vertical-align: middle;'></progress>\n",
              "      [52/52 05:30, Epoch 4/4]\n",
              "    </div>\n",
              "    <table border=\"1\" class=\"dataframe\">\n",
              "  <thead>\n",
              " <tr style=\"text-align: left;\">\n",
              "      <th>Step</th>\n",
              "      <th>Training Loss</th>\n",
              "      <th>Validation Loss</th>\n",
              "      <th>Ir-eval Cosine Accuracy@1</th>\n",
              "      <th>Ir-eval Cosine Accuracy@3</th>\n",
              "      <th>Ir-eval Cosine Accuracy@5</th>\n",
              "      <th>Ir-eval Cosine Accuracy@10</th>\n",
              "      <th>Ir-eval Cosine Precision@1</th>\n",
              "      <th>Ir-eval Cosine Precision@3</th>\n",
              "      <th>Ir-eval Cosine Precision@5</th>\n",
              "      <th>Ir-eval Cosine Precision@10</th>\n",
              "      <th>Ir-eval Cosine Recall@1</th>\n",
              "      <th>Ir-eval Cosine Recall@3</th>\n",
              "      <th>Ir-eval Cosine Recall@5</th>\n",
              "      <th>Ir-eval Cosine Recall@10</th>\n",
              "      <th>Ir-eval Cosine Ndcg@10</th>\n",
              "      <th>Ir-eval Cosine Mrr@10</th>\n",
              "      <th>Ir-eval Cosine Map@100</th>\n",
              "    </tr>\n",
              "  </thead>\n",
              "  <tbody>\n",
              "    <tr>\n",
              "      <td>4</td>\n",
              "      <td>1.842900</td>\n",
              "      <td>1.183924</td>\n",
              "      <td>0.578571</td>\n",
              "      <td>0.721429</td>\n",
              "      <td>0.777143</td>\n",
              "      <td>0.831429</td>\n",
              "      <td>0.578571</td>\n",
              "      <td>0.240476</td>\n",
              "      <td>0.155429</td>\n",
              "      <td>0.083143</td>\n",
              "      <td>0.578571</td>\n",
              "      <td>0.721429</td>\n",
              "      <td>0.777143</td>\n",
              "      <td>0.831429</td>\n",
              "      <td>0.704366</td>\n",
              "      <td>0.663803</td>\n",
              "      <td>0.668477</td>\n",
              "    </tr>\n",
              "    <tr>\n",
              "      <td>8</td>\n",
              "      <td>1.389200</td>\n",
              "      <td>0.715329</td>\n",
              "      <td>0.618571</td>\n",
              "      <td>0.742857</td>\n",
              "      <td>0.801429</td>\n",
              "      <td>0.847143</td>\n",
              "      <td>0.618571</td>\n",
              "      <td>0.247619</td>\n",
              "      <td>0.160286</td>\n",
              "      <td>0.084714</td>\n",
              "      <td>0.618571</td>\n",
              "      <td>0.742857</td>\n",
              "      <td>0.801429</td>\n",
              "      <td>0.847143</td>\n",
              "      <td>0.731694</td>\n",
              "      <td>0.694814</td>\n",
              "      <td>0.699990</td>\n",
              "    </tr>\n",
              "    <tr>\n",
              "      <td>12</td>\n",
              "      <td>0.749600</td>\n",
              "      <td>0.507300</td>\n",
              "      <td>0.638571</td>\n",
              "      <td>0.764286</td>\n",
              "      <td>0.810000</td>\n",
              "      <td>0.867143</td>\n",
              "      <td>0.638571</td>\n",
              "      <td>0.254762</td>\n",
              "      <td>0.162000</td>\n",
              "      <td>0.086714</td>\n",
              "      <td>0.638571</td>\n",
              "      <td>0.764286</td>\n",
              "      <td>0.810000</td>\n",
              "      <td>0.867143</td>\n",
              "      <td>0.749741</td>\n",
              "      <td>0.712506</td>\n",
              "      <td>0.717353</td>\n",
              "    </tr>\n",
              "    <tr>\n",
              "      <td>16</td>\n",
              "      <td>0.657600</td>\n",
              "      <td>0.428953</td>\n",
              "      <td>0.645714</td>\n",
              "      <td>0.780000</td>\n",
              "      <td>0.824286</td>\n",
              "      <td>0.878571</td>\n",
              "      <td>0.645714</td>\n",
              "      <td>0.260000</td>\n",
              "      <td>0.164857</td>\n",
              "      <td>0.087857</td>\n",
              "      <td>0.645714</td>\n",
              "      <td>0.780000</td>\n",
              "      <td>0.824286</td>\n",
              "      <td>0.878571</td>\n",
              "      <td>0.760336</td>\n",
              "      <td>0.722725</td>\n",
              "      <td>0.727359</td>\n",
              "    </tr>\n",
              "    <tr>\n",
              "      <td>20</td>\n",
              "      <td>0.614300</td>\n",
              "      <td>0.382340</td>\n",
              "      <td>0.668571</td>\n",
              "      <td>0.790000</td>\n",
              "      <td>0.838571</td>\n",
              "      <td>0.891429</td>\n",
              "      <td>0.668571</td>\n",
              "      <td>0.263333</td>\n",
              "      <td>0.167714</td>\n",
              "      <td>0.089143</td>\n",
              "      <td>0.668571</td>\n",
              "      <td>0.790000</td>\n",
              "      <td>0.838571</td>\n",
              "      <td>0.891429</td>\n",
              "      <td>0.778032</td>\n",
              "      <td>0.741937</td>\n",
              "      <td>0.745949</td>\n",
              "    </tr>\n",
              "    <tr>\n",
              "      <td>24</td>\n",
              "      <td>0.559200</td>\n",
              "      <td>0.357284</td>\n",
              "      <td>0.668571</td>\n",
              "      <td>0.802857</td>\n",
              "      <td>0.847143</td>\n",
              "      <td>0.898571</td>\n",
              "      <td>0.668571</td>\n",
              "      <td>0.267619</td>\n",
              "      <td>0.169429</td>\n",
              "      <td>0.089857</td>\n",
              "      <td>0.668571</td>\n",
              "      <td>0.802857</td>\n",
              "      <td>0.847143</td>\n",
              "      <td>0.898571</td>\n",
              "      <td>0.784138</td>\n",
              "      <td>0.747524</td>\n",
              "      <td>0.750950</td>\n",
              "    </tr>\n",
              "    <tr>\n",
              "      <td>28</td>\n",
              "      <td>0.459600</td>\n",
              "      <td>0.345445</td>\n",
              "      <td>0.670000</td>\n",
              "      <td>0.815714</td>\n",
              "      <td>0.858571</td>\n",
              "      <td>0.900000</td>\n",
              "      <td>0.670000</td>\n",
              "      <td>0.271905</td>\n",
              "      <td>0.171714</td>\n",
              "      <td>0.090000</td>\n",
              "      <td>0.670000</td>\n",
              "      <td>0.815714</td>\n",
              "      <td>0.858571</td>\n",
              "      <td>0.900000</td>\n",
              "      <td>0.787243</td>\n",
              "      <td>0.750852</td>\n",
              "      <td>0.754066</td>\n",
              "    </tr>\n",
              "    <tr>\n",
              "      <td>32</td>\n",
              "      <td>0.555100</td>\n",
              "      <td>0.337076</td>\n",
              "      <td>0.675714</td>\n",
              "      <td>0.811429</td>\n",
              "      <td>0.864286</td>\n",
              "      <td>0.901429</td>\n",
              "      <td>0.675714</td>\n",
              "      <td>0.270476</td>\n",
              "      <td>0.172857</td>\n",
              "      <td>0.090143</td>\n",
              "      <td>0.675714</td>\n",
              "      <td>0.811429</td>\n",
              "      <td>0.864286</td>\n",
              "      <td>0.901429</td>\n",
              "      <td>0.790867</td>\n",
              "      <td>0.755160</td>\n",
              "      <td>0.758290</td>\n",
              "    </tr>\n",
              "    <tr>\n",
              "      <td>36</td>\n",
              "      <td>0.546900</td>\n",
              "      <td>0.331842</td>\n",
              "      <td>0.678571</td>\n",
              "      <td>0.815714</td>\n",
              "      <td>0.867143</td>\n",
              "      <td>0.901429</td>\n",
              "      <td>0.678571</td>\n",
              "      <td>0.271905</td>\n",
              "      <td>0.173429</td>\n",
              "      <td>0.090143</td>\n",
              "      <td>0.678571</td>\n",
              "      <td>0.815714</td>\n",
              "      <td>0.867143</td>\n",
              "      <td>0.901429</td>\n",
              "      <td>0.793002</td>\n",
              "      <td>0.757874</td>\n",
              "      <td>0.761037</td>\n",
              "    </tr>\n",
              "    <tr>\n",
              "      <td>40</td>\n",
              "      <td>0.359800</td>\n",
              "      <td>0.328072</td>\n",
              "      <td>0.680000</td>\n",
              "      <td>0.820000</td>\n",
              "      <td>0.868571</td>\n",
              "      <td>0.901429</td>\n",
              "      <td>0.680000</td>\n",
              "      <td>0.273333</td>\n",
              "      <td>0.173714</td>\n",
              "      <td>0.090143</td>\n",
              "      <td>0.680000</td>\n",
              "      <td>0.820000</td>\n",
              "      <td>0.868571</td>\n",
              "      <td>0.901429</td>\n",
              "      <td>0.793829</td>\n",
              "      <td>0.758917</td>\n",
              "      <td>0.762097</td>\n",
              "    </tr>\n",
              "    <tr>\n",
              "      <td>44</td>\n",
              "      <td>0.484400</td>\n",
              "      <td>0.327019</td>\n",
              "      <td>0.678571</td>\n",
              "      <td>0.818571</td>\n",
              "      <td>0.868571</td>\n",
              "      <td>0.901429</td>\n",
              "      <td>0.678571</td>\n",
              "      <td>0.272857</td>\n",
              "      <td>0.173714</td>\n",
              "      <td>0.090143</td>\n",
              "      <td>0.678571</td>\n",
              "      <td>0.818571</td>\n",
              "      <td>0.868571</td>\n",
              "      <td>0.901429</td>\n",
              "      <td>0.793415</td>\n",
              "      <td>0.758348</td>\n",
              "      <td>0.761538</td>\n",
              "    </tr>\n",
              "    <tr>\n",
              "      <td>48</td>\n",
              "      <td>0.459900</td>\n",
              "      <td>0.326337</td>\n",
              "      <td>0.680000</td>\n",
              "      <td>0.818571</td>\n",
              "      <td>0.870000</td>\n",
              "      <td>0.901429</td>\n",
              "      <td>0.680000</td>\n",
              "      <td>0.272857</td>\n",
              "      <td>0.174000</td>\n",
              "      <td>0.090143</td>\n",
              "      <td>0.680000</td>\n",
              "      <td>0.818571</td>\n",
              "      <td>0.870000</td>\n",
              "      <td>0.901429</td>\n",
              "      <td>0.794044</td>\n",
              "      <td>0.759169</td>\n",
              "      <td>0.762369</td>\n",
              "    </tr>\n",
              "    <tr>\n",
              "      <td>52</td>\n",
              "      <td>0.428900</td>\n",
              "      <td>0.326476</td>\n",
              "      <td>0.680000</td>\n",
              "      <td>0.818571</td>\n",
              "      <td>0.865714</td>\n",
              "      <td>0.901429</td>\n",
              "      <td>0.680000</td>\n",
              "      <td>0.272857</td>\n",
              "      <td>0.173143</td>\n",
              "      <td>0.090143</td>\n",
              "      <td>0.680000</td>\n",
              "      <td>0.818571</td>\n",
              "      <td>0.865714</td>\n",
              "      <td>0.901429</td>\n",
              "      <td>0.793913</td>\n",
              "      <td>0.759026</td>\n",
              "      <td>0.762210</td>\n",
              "    </tr>\n",
              "  </tbody>\n",
              "</table><p>"
            ],
            "text/plain": [
              "<IPython.core.display.HTML object>"
            ]
          },
          "metadata": {},
          "output_type": "display_data"
        },
        {
          "name": "stdout",
          "output_type": "stream",
          "text": [
            "Unsloth: Will smartly offload gradients to save VRAM!\n"
          ]
        }
      ],
      "source": [
        "# train the unsloth embeddings\n",
        "train_res = trainer.train()"
      ]
    },
    {
      "cell_type": "markdown",
      "metadata": {
        "id": "PdigR23QFqKt"
      },
      "source": [
        "Let's save the model to disk so we can use it later."
      ]
    },
    {
      "cell_type": "code",
      "execution_count": 20,
      "metadata": {
        "id": "EdNlimxv6oU2"
      },
      "outputs": [],
      "source": [
        "# save the fine-tuned for persistence\n",
        "sbert_model.save_pretrained(str(OUTPUT_DIR))"
      ]
    },
    {
      "cell_type": "markdown",
      "metadata": {
        "id": "GTwJwMoJ3Rf8"
      },
      "source": [
        "# Comparison with the original model"
      ]
    },
    {
      "cell_type": "markdown",
      "metadata": {
        "id": "vv6AxzFVFtS8"
      },
      "source": [
        "We need to evaluate the model to know if this whole process actually improved it. We'll compare it against the original model that had no QLoRA adapters. The small snippet below loads up fresh versions of both models, puts them into eval mode, and runs the `evaluator` on them."
      ]
    },
    {
      "cell_type": "code",
      "execution_count": 21,
      "metadata": {
        "colab": {
          "base_uri": "https://localhost:8080/"
        },
        "id": "HJoHFZyS3Rf8",
        "outputId": "77cb731c-84f6-4d89-8144-89ceac643d20"
      },
      "outputs": [
        {
          "name": "stderr",
          "output_type": "stream",
          "text": [
            "/usr/local/lib/python3.11/dist-packages/peft/tuners/tuners_utils.py:167: UserWarning: Already found a `peft_config` attribute in the model. This will lead to having multiple adapters in the model. Make sure to know what you are doing!\n",
            "  warnings.warn(\n"
          ]
        },
        {
          "name": "stdout",
          "output_type": "stream",
          "text": [
            "Original model: {'ir-eval_cosine_accuracy@1': 0.5985714285714285, 'ir-eval_cosine_accuracy@3': 0.7271428571428571, 'ir-eval_cosine_accuracy@5': 0.7814285714285715, 'ir-eval_cosine_accuracy@10': 0.8442857142857143, 'ir-eval_cosine_precision@1': 0.5985714285714285, 'ir-eval_cosine_precision@3': 0.24238095238095236, 'ir-eval_cosine_precision@5': 0.15628571428571425, 'ir-eval_cosine_precision@10': 0.08442857142857142, 'ir-eval_cosine_recall@1': 0.5985714285714285, 'ir-eval_cosine_recall@3': 0.7271428571428571, 'ir-eval_cosine_recall@5': 0.7814285714285715, 'ir-eval_cosine_recall@10': 0.8442857142857143, 'ir-eval_cosine_ndcg@10': 0.7169950659589105, 'ir-eval_cosine_mrr@10': 0.6768259637188209, 'ir-eval_cosine_map@100': 0.682233373628609}\n",
            "Fine-tuned model: {'ir-eval_cosine_accuracy@1': 0.65, 'ir-eval_cosine_accuracy@3': 0.7914285714285715, 'ir-eval_cosine_accuracy@5': 0.8414285714285714, 'ir-eval_cosine_accuracy@10': 0.9042857142857142, 'ir-eval_cosine_precision@1': 0.65, 'ir-eval_cosine_precision@3': 0.26380952380952377, 'ir-eval_cosine_precision@5': 0.16828571428571426, 'ir-eval_cosine_precision@10': 0.09042857142857141, 'ir-eval_cosine_recall@1': 0.65, 'ir-eval_cosine_recall@3': 0.7914285714285715, 'ir-eval_cosine_recall@5': 0.8414285714285714, 'ir-eval_cosine_recall@10': 0.9042857142857142, 'ir-eval_cosine_ndcg@10': 0.7753242341249659, 'ir-eval_cosine_mrr@10': 0.734347505668934, 'ir-eval_cosine_map@100': 0.7375553017174123}\n"
          ]
        }
      ],
      "source": [
        "# load the baseline\n",
        "original_model = SentenceTransformer(BASE_MODEL_ID)\n",
        "original_model.eval()\n",
        "\n",
        "# load the fine-tuned model\n",
        "fine_tuned_model = SentenceTransformer(\n",
        "    args.output_dir, device=\"cuda\" if torch.cuda.is_available() else \"cpu\"\n",
        ")\n",
        "fine_tuned_model.eval()\n",
        "\n",
        "# evaluate both models\n",
        "with torch.inference_mode():\n",
        "  baselines = evaluator(original_model)\n",
        "  fine_tuned_results = evaluator(fine_tuned_model)\n",
        "\n",
        "# print their scores\n",
        "print(f\"Original model: {baselines}\")\n",
        "print(f\"Fine-tuned model: {fine_tuned_results}\")"
      ]
    },
    {
      "cell_type": "markdown",
      "metadata": {
        "id": "GrqZ3LKNF8FX"
      },
      "source": [
        "Let's focus on one of the more useful retrieval metrics: `NDCG@10`. How did the baseline do?"
      ]
    },
    {
      "cell_type": "code",
      "execution_count": 22,
      "metadata": {
        "colab": {
          "base_uri": "https://localhost:8080/"
        },
        "id": "-NwhSyX_68-K",
        "outputId": "6386677d-10dc-4338-a018-8347b794869c"
      },
      "outputs": [
        {
          "data": {
            "text/plain": [
              "0.7169950659589105"
            ]
          },
          "execution_count": 22,
          "metadata": {},
          "output_type": "execute_result"
        }
      ],
      "source": [
        "# baseline result\n",
        "baselines['ir-eval_cosine_ndcg@10']"
      ]
    },
    {
      "cell_type": "markdown",
      "metadata": {
        "id": "FjPVEfSmGBnY"
      },
      "source": [
        "Now let's check the fine-tuned model."
      ]
    },
    {
      "cell_type": "code",
      "execution_count": 23,
      "metadata": {
        "colab": {
          "base_uri": "https://localhost:8080/"
        },
        "id": "zIqQ7jxB7Dde",
        "outputId": "ee392ad7-a4b9-4f5b-e620-2a36dfb5bea0"
      },
      "outputs": [
        {
          "data": {
            "text/plain": [
              "0.7753242341249659"
            ]
          },
          "execution_count": 23,
          "metadata": {},
          "output_type": "execute_result"
        }
      ],
      "source": [
        "# fine-tuned results\n",
        "fine_tuned_results['ir-eval_cosine_ndcg@10']"
      ]
    },
    {
      "cell_type": "markdown",
      "metadata": {
        "id": "nMJ-lCQ_GD34"
      },
      "source": [
        "Great! We improved quite a bit on our baseline! Just how much better are we?"
      ]
    },
    {
      "cell_type": "code",
      "execution_count": 24,
      "metadata": {
        "colab": {
          "base_uri": "https://localhost:8080/"
        },
        "id": "Y0cWRIku7H6v",
        "outputId": "f345473b-5f51-477c-893f-a30eeb6fb4a2"
      },
      "outputs": [
        {
          "data": {
            "text/plain": [
              "1.0813522588025706"
            ]
          },
          "execution_count": 24,
          "metadata": {},
          "output_type": "execute_result"
        }
      ],
      "source": [
        "# how much better is the fine-tune?\n",
        "fine_tuned_results['ir-eval_cosine_ndcg@10'] / baselines['ir-eval_cosine_ndcg@10']"
      ]
    },
    {
      "cell_type": "markdown",
      "metadata": {
        "id": "riZZDiH7GLTf"
      },
      "source": [
        "We got an 8% improvement in performance on this metric. That's pretty solid gain for something that took just over 5 minutes to train. And we could fit this whole process on even an extremely low-end consumer GPU. We created a fine-tuned QLoRA embedding model that solidly outperforms its baseline."
      ]
    },
    {
      "cell_type": "markdown",
      "metadata": {
        "id": "HG8Hquey3Rf8"
      },
      "source": [
        "# Conclusion"
      ]
    },
    {
      "cell_type": "markdown",
      "metadata": {
        "id": "FhfhkZH93Rf8"
      },
      "source": [
        "This post showed how we can fine-tune encoders with QLoRA adapters using the unsloth and Sentence Transformers libraries. We trained the models with a tiny fraction of the parameters that full fine-tuning would have otherwise taken.  \n",
        "\n",
        "QLoRAs for encoder models are a pretty under-explored area. It is likely that many of the parameters above are not optimal, but a proper sweep and ablatement is beyond this post. I mainly wanted to share a way to reliably fine-tune encoder moders with unsloth.  \n",
        "\n",
        "Finally, encoder models are usually significantly smaller than their LLM counterparts. This gives us a nice two-for-one, where we can use incredibly large batch sizes during our fine-tuning. And because our MNR Loss picks random examples from the same batch to use as negatives, this means our loss can pick from much more varied samples."
      ]
    }
  ],
  "metadata": {
    "accelerator": "GPU",
    "colab": {
      "gpuType": "A100",
      "machine_shape": "hm",
      "provenance": []
    },
    "kernelspec": {
      "display_name": ".venv",
      "language": "python",
      "name": "python3"
    },
    "language_info": {
      "codemirror_mode": {
        "name": "ipython",
        "version": 3
      },
      "file_extension": ".py",
      "mimetype": "text/x-python",
      "name": "python",
      "nbconvert_exporter": "python",
      "pygments_lexer": "ipython3",
      "version": "3.12.6"
    },
    "widgets": {
      "application/vnd.jupyter.widget-state+json": {
        "014e58040ade4ee3ad6106d3c30f8b4a": {
          "model_module": "@jupyter-widgets/base",
          "model_module_version": "1.2.0",
          "model_name": "LayoutModel",
          "state": {
            "_model_module": "@jupyter-widgets/base",
            "_model_module_version": "1.2.0",
            "_model_name": "LayoutModel",
            "_view_count": null,
            "_view_module": "@jupyter-widgets/base",
            "_view_module_version": "1.2.0",
            "_view_name": "LayoutView",
            "align_content": null,
            "align_items": null,
            "align_self": null,
            "border": null,
            "bottom": null,
            "display": null,
            "flex": null,
            "flex_flow": null,
            "grid_area": null,
            "grid_auto_columns": null,
            "grid_auto_flow": null,
            "grid_auto_rows": null,
            "grid_column": null,
            "grid_gap": null,
            "grid_row": null,
            "grid_template_areas": null,
            "grid_template_columns": null,
            "grid_template_rows": null,
            "height": null,
            "justify_content": null,
            "justify_items": null,
            "left": null,
            "margin": null,
            "max_height": null,
            "max_width": null,
            "min_height": null,
            "min_width": null,
            "object_fit": null,
            "object_position": null,
            "order": null,
            "overflow": null,
            "overflow_x": null,
            "overflow_y": null,
            "padding": null,
            "right": null,
            "top": null,
            "visibility": null,
            "width": null
          }
        },
        "02428034c5ea44d080ab67e6e345a792": {
          "model_module": "@jupyter-widgets/controls",
          "model_module_version": "1.5.0",
          "model_name": "HTMLModel",
          "state": {
            "_dom_classes": [],
            "_model_module": "@jupyter-widgets/controls",
            "_model_module_version": "1.5.0",
            "_model_name": "HTMLModel",
            "_view_count": null,
            "_view_module": "@jupyter-widgets/controls",
            "_view_module_version": "1.5.0",
            "_view_name": "HTMLView",
            "description": "",
            "description_tooltip": null,
            "layout": "IPY_MODEL_5034b30bca1445c395864da105d48b37",
            "placeholder": "​",
            "style": "IPY_MODEL_19e0eb73e949455cb99a3564b0651a31",
            "value": " 700/0 [00:00&lt;00:00, 44880.81 examples/s]"
          }
        },
        "061aadcefaf24bebbde1402fd6afbc61": {
          "model_module": "@jupyter-widgets/controls",
          "model_module_version": "1.5.0",
          "model_name": "HTMLModel",
          "state": {
            "_dom_classes": [],
            "_model_module": "@jupyter-widgets/controls",
            "_model_module_version": "1.5.0",
            "_model_name": "HTMLModel",
            "_view_count": null,
            "_view_module": "@jupyter-widgets/controls",
            "_view_module_version": "1.5.0",
            "_view_name": "HTMLView",
            "description": "",
            "description_tooltip": null,
            "layout": "IPY_MODEL_c6cf3427c6334609951e89576396617c",
            "placeholder": "​",
            "style": "IPY_MODEL_dccf5f55501f4354901e7a7678bf1e84",
            "value": " 6300/0 [00:00&lt;00:00, 314012.06 examples/s]"
          }
        },
        "0857d6ad6b364bebb36b8e288852909e": {
          "model_module": "@jupyter-widgets/controls",
          "model_module_version": "1.5.0",
          "model_name": "HTMLModel",
          "state": {
            "_dom_classes": [],
            "_model_module": "@jupyter-widgets/controls",
            "_model_module_version": "1.5.0",
            "_model_name": "HTMLModel",
            "_view_count": null,
            "_view_module": "@jupyter-widgets/controls",
            "_view_module_version": "1.5.0",
            "_view_name": "HTMLView",
            "description": "",
            "description_tooltip": null,
            "layout": "IPY_MODEL_014e58040ade4ee3ad6106d3c30f8b4a",
            "placeholder": "​",
            "style": "IPY_MODEL_9c6654f07bf84c798fa69c3e3921329e",
            "value": " 0/1 [00:00&lt;?, ?example/s]"
          }
        },
        "102ef47779a84c118380cf6e8b576b53": {
          "model_module": "@jupyter-widgets/controls",
          "model_module_version": "1.5.0",
          "model_name": "DescriptionStyleModel",
          "state": {
            "_model_module": "@jupyter-widgets/controls",
            "_model_module_version": "1.5.0",
            "_model_name": "DescriptionStyleModel",
            "_view_count": null,
            "_view_module": "@jupyter-widgets/base",
            "_view_module_version": "1.2.0",
            "_view_name": "StyleView",
            "description_width": ""
          }
        },
        "1094975d49164de08ac1362f3be19ef4": {
          "model_module": "@jupyter-widgets/base",
          "model_module_version": "1.2.0",
          "model_name": "LayoutModel",
          "state": {
            "_model_module": "@jupyter-widgets/base",
            "_model_module_version": "1.2.0",
            "_model_name": "LayoutModel",
            "_view_count": null,
            "_view_module": "@jupyter-widgets/base",
            "_view_module_version": "1.2.0",
            "_view_name": "LayoutView",
            "align_content": null,
            "align_items": null,
            "align_self": null,
            "border": null,
            "bottom": null,
            "display": null,
            "flex": null,
            "flex_flow": null,
            "grid_area": null,
            "grid_auto_columns": null,
            "grid_auto_flow": null,
            "grid_auto_rows": null,
            "grid_column": null,
            "grid_gap": null,
            "grid_row": null,
            "grid_template_areas": null,
            "grid_template_columns": null,
            "grid_template_rows": null,
            "height": null,
            "justify_content": null,
            "justify_items": null,
            "left": null,
            "margin": null,
            "max_height": null,
            "max_width": null,
            "min_height": null,
            "min_width": null,
            "object_fit": null,
            "object_position": null,
            "order": null,
            "overflow": null,
            "overflow_x": null,
            "overflow_y": null,
            "padding": null,
            "right": null,
            "top": null,
            "visibility": null,
            "width": null
          }
        },
        "1582599c2d2e435799cb1004436002bf": {
          "model_module": "@jupyter-widgets/base",
          "model_module_version": "1.2.0",
          "model_name": "LayoutModel",
          "state": {
            "_model_module": "@jupyter-widgets/base",
            "_model_module_version": "1.2.0",
            "_model_name": "LayoutModel",
            "_view_count": null,
            "_view_module": "@jupyter-widgets/base",
            "_view_module_version": "1.2.0",
            "_view_name": "LayoutView",
            "align_content": null,
            "align_items": null,
            "align_self": null,
            "border": null,
            "bottom": null,
            "display": null,
            "flex": null,
            "flex_flow": null,
            "grid_area": null,
            "grid_auto_columns": null,
            "grid_auto_flow": null,
            "grid_auto_rows": null,
            "grid_column": null,
            "grid_gap": null,
            "grid_row": null,
            "grid_template_areas": null,
            "grid_template_columns": null,
            "grid_template_rows": null,
            "height": null,
            "justify_content": null,
            "justify_items": null,
            "left": null,
            "margin": null,
            "max_height": null,
            "max_width": null,
            "min_height": null,
            "min_width": null,
            "object_fit": null,
            "object_position": null,
            "order": null,
            "overflow": null,
            "overflow_x": null,
            "overflow_y": null,
            "padding": null,
            "right": null,
            "top": null,
            "visibility": null,
            "width": null
          }
        },
        "19e0eb73e949455cb99a3564b0651a31": {
          "model_module": "@jupyter-widgets/controls",
          "model_module_version": "1.5.0",
          "model_name": "DescriptionStyleModel",
          "state": {
            "_model_module": "@jupyter-widgets/controls",
            "_model_module_version": "1.5.0",
            "_model_name": "DescriptionStyleModel",
            "_view_count": null,
            "_view_module": "@jupyter-widgets/base",
            "_view_module_version": "1.2.0",
            "_view_name": "StyleView",
            "description_width": ""
          }
        },
        "1a48677c11df4b3e9866851ff3b77cd4": {
          "model_module": "@jupyter-widgets/base",
          "model_module_version": "1.2.0",
          "model_name": "LayoutModel",
          "state": {
            "_model_module": "@jupyter-widgets/base",
            "_model_module_version": "1.2.0",
            "_model_name": "LayoutModel",
            "_view_count": null,
            "_view_module": "@jupyter-widgets/base",
            "_view_module_version": "1.2.0",
            "_view_name": "LayoutView",
            "align_content": null,
            "align_items": null,
            "align_self": null,
            "border": null,
            "bottom": null,
            "display": null,
            "flex": null,
            "flex_flow": null,
            "grid_area": null,
            "grid_auto_columns": null,
            "grid_auto_flow": null,
            "grid_auto_rows": null,
            "grid_column": null,
            "grid_gap": null,
            "grid_row": null,
            "grid_template_areas": null,
            "grid_template_columns": null,
            "grid_template_rows": null,
            "height": null,
            "justify_content": null,
            "justify_items": null,
            "left": null,
            "margin": null,
            "max_height": null,
            "max_width": null,
            "min_height": null,
            "min_width": null,
            "object_fit": null,
            "object_position": null,
            "order": null,
            "overflow": null,
            "overflow_x": null,
            "overflow_y": null,
            "padding": null,
            "right": null,
            "top": null,
            "visibility": null,
            "width": null
          }
        },
        "1b88373ba3384f08b16409b768ea7b0f": {
          "model_module": "@jupyter-widgets/controls",
          "model_module_version": "1.5.0",
          "model_name": "DescriptionStyleModel",
          "state": {
            "_model_module": "@jupyter-widgets/controls",
            "_model_module_version": "1.5.0",
            "_model_name": "DescriptionStyleModel",
            "_view_count": null,
            "_view_module": "@jupyter-widgets/base",
            "_view_module_version": "1.2.0",
            "_view_name": "StyleView",
            "description_width": ""
          }
        },
        "2a5a620a3c6641aab322ffbbf66cc102": {
          "model_module": "@jupyter-widgets/controls",
          "model_module_version": "1.5.0",
          "model_name": "HBoxModel",
          "state": {
            "_dom_classes": [],
            "_model_module": "@jupyter-widgets/controls",
            "_model_module_version": "1.5.0",
            "_model_name": "HBoxModel",
            "_view_count": null,
            "_view_module": "@jupyter-widgets/controls",
            "_view_module_version": "1.5.0",
            "_view_name": "HBoxView",
            "box_style": "",
            "children": [
              "IPY_MODEL_63f1308e485441ab9ef262d1a9612f7f",
              "IPY_MODEL_5df94590e59c45258e7d8ca628dab62b",
              "IPY_MODEL_061aadcefaf24bebbde1402fd6afbc61"
            ],
            "layout": "IPY_MODEL_1582599c2d2e435799cb1004436002bf"
          }
        },
        "3abca4bb3cd641c4bb970f9797374056": {
          "model_module": "@jupyter-widgets/controls",
          "model_module_version": "1.5.0",
          "model_name": "DescriptionStyleModel",
          "state": {
            "_model_module": "@jupyter-widgets/controls",
            "_model_module_version": "1.5.0",
            "_model_name": "DescriptionStyleModel",
            "_view_count": null,
            "_view_module": "@jupyter-widgets/base",
            "_view_module_version": "1.2.0",
            "_view_name": "StyleView",
            "description_width": ""
          }
        },
        "4f9c86746751416dbc341a656f0128d9": {
          "model_module": "@jupyter-widgets/controls",
          "model_module_version": "1.5.0",
          "model_name": "HTMLModel",
          "state": {
            "_dom_classes": [],
            "_model_module": "@jupyter-widgets/controls",
            "_model_module_version": "1.5.0",
            "_model_name": "HTMLModel",
            "_view_count": null,
            "_view_module": "@jupyter-widgets/controls",
            "_view_module_version": "1.5.0",
            "_view_name": "HTMLView",
            "description": "",
            "description_tooltip": null,
            "layout": "IPY_MODEL_9c0e6dcf695149caadb21e020921d4de",
            "placeholder": "​",
            "style": "IPY_MODEL_af94039275094debba03f5174465523e",
            "value": "Computing widget examples:   0%"
          }
        },
        "5034b30bca1445c395864da105d48b37": {
          "model_module": "@jupyter-widgets/base",
          "model_module_version": "1.2.0",
          "model_name": "LayoutModel",
          "state": {
            "_model_module": "@jupyter-widgets/base",
            "_model_module_version": "1.2.0",
            "_model_name": "LayoutModel",
            "_view_count": null,
            "_view_module": "@jupyter-widgets/base",
            "_view_module_version": "1.2.0",
            "_view_name": "LayoutView",
            "align_content": null,
            "align_items": null,
            "align_self": null,
            "border": null,
            "bottom": null,
            "display": null,
            "flex": null,
            "flex_flow": null,
            "grid_area": null,
            "grid_auto_columns": null,
            "grid_auto_flow": null,
            "grid_auto_rows": null,
            "grid_column": null,
            "grid_gap": null,
            "grid_row": null,
            "grid_template_areas": null,
            "grid_template_columns": null,
            "grid_template_rows": null,
            "height": null,
            "justify_content": null,
            "justify_items": null,
            "left": null,
            "margin": null,
            "max_height": null,
            "max_width": null,
            "min_height": null,
            "min_width": null,
            "object_fit": null,
            "object_position": null,
            "order": null,
            "overflow": null,
            "overflow_x": null,
            "overflow_y": null,
            "padding": null,
            "right": null,
            "top": null,
            "visibility": null,
            "width": null
          }
        },
        "5df94590e59c45258e7d8ca628dab62b": {
          "model_module": "@jupyter-widgets/controls",
          "model_module_version": "1.5.0",
          "model_name": "FloatProgressModel",
          "state": {
            "_dom_classes": [],
            "_model_module": "@jupyter-widgets/controls",
            "_model_module_version": "1.5.0",
            "_model_name": "FloatProgressModel",
            "_view_count": null,
            "_view_module": "@jupyter-widgets/controls",
            "_view_module_version": "1.5.0",
            "_view_name": "ProgressView",
            "bar_style": "success",
            "description": "",
            "description_tooltip": null,
            "layout": "IPY_MODEL_c736edd813374ba2a573f7c8d7b7edf5",
            "max": 1,
            "min": 0,
            "orientation": "horizontal",
            "style": "IPY_MODEL_b356a382e4b7458f8105b81d32255e97",
            "value": 1
          }
        },
        "62f0081a766a42da8912324d99154226": {
          "model_module": "@jupyter-widgets/controls",
          "model_module_version": "1.5.0",
          "model_name": "ProgressStyleModel",
          "state": {
            "_model_module": "@jupyter-widgets/controls",
            "_model_module_version": "1.5.0",
            "_model_name": "ProgressStyleModel",
            "_view_count": null,
            "_view_module": "@jupyter-widgets/base",
            "_view_module_version": "1.2.0",
            "_view_name": "StyleView",
            "bar_color": null,
            "description_width": ""
          }
        },
        "63f1308e485441ab9ef262d1a9612f7f": {
          "model_module": "@jupyter-widgets/controls",
          "model_module_version": "1.5.0",
          "model_name": "HTMLModel",
          "state": {
            "_dom_classes": [],
            "_model_module": "@jupyter-widgets/controls",
            "_model_module_version": "1.5.0",
            "_model_name": "HTMLModel",
            "_view_count": null,
            "_view_module": "@jupyter-widgets/controls",
            "_view_module_version": "1.5.0",
            "_view_name": "HTMLView",
            "description": "",
            "description_tooltip": null,
            "layout": "IPY_MODEL_c18b19a5db4646f7868fbc0ed3fc6c51",
            "placeholder": "​",
            "style": "IPY_MODEL_91492127d3234c2c9006da7eb68310a2",
            "value": "Generating train split: "
          }
        },
        "68e277c0f5ae4b2bb230eff482de6f71": {
          "model_module": "@jupyter-widgets/controls",
          "model_module_version": "1.5.0",
          "model_name": "ProgressStyleModel",
          "state": {
            "_model_module": "@jupyter-widgets/controls",
            "_model_module_version": "1.5.0",
            "_model_name": "ProgressStyleModel",
            "_view_count": null,
            "_view_module": "@jupyter-widgets/base",
            "_view_module_version": "1.2.0",
            "_view_name": "StyleView",
            "bar_color": null,
            "description_width": ""
          }
        },
        "75f01910824f48c9a95425d25c162432": {
          "model_module": "@jupyter-widgets/controls",
          "model_module_version": "1.5.0",
          "model_name": "HBoxModel",
          "state": {
            "_dom_classes": [],
            "_model_module": "@jupyter-widgets/controls",
            "_model_module_version": "1.5.0",
            "_model_name": "HBoxModel",
            "_view_count": null,
            "_view_module": "@jupyter-widgets/controls",
            "_view_module_version": "1.5.0",
            "_view_name": "HBoxView",
            "box_style": "",
            "children": [
              "IPY_MODEL_e1fa91589f494ae89d47a2a8649e3f46",
              "IPY_MODEL_c57445bff9b64496b41c97ec3db86306",
              "IPY_MODEL_96275473cd174d0b9ef38e2a2139ab5f"
            ],
            "layout": "IPY_MODEL_9a015dcbcfde485fbadc36487b1bea34"
          }
        },
        "767fd0d66b1e4b37abe6f8313ab211df": {
          "model_module": "@jupyter-widgets/controls",
          "model_module_version": "1.5.0",
          "model_name": "HBoxModel",
          "state": {
            "_dom_classes": [],
            "_model_module": "@jupyter-widgets/controls",
            "_model_module_version": "1.5.0",
            "_model_name": "HBoxModel",
            "_view_count": null,
            "_view_module": "@jupyter-widgets/controls",
            "_view_module_version": "1.5.0",
            "_view_name": "HBoxView",
            "box_style": "",
            "children": [
              "IPY_MODEL_a71c29a33bf24d3092cad84cd41d04c7",
              "IPY_MODEL_ab755d7a729e408fb4564c1c288f7cce",
              "IPY_MODEL_9b72a3903c154d38800368f2f1826afd"
            ],
            "layout": "IPY_MODEL_f323700c249d4995949d58d8369882e6"
          }
        },
        "7b51bd73e7a44ac3bbb7ddb5901b123f": {
          "model_module": "@jupyter-widgets/base",
          "model_module_version": "1.2.0",
          "model_name": "LayoutModel",
          "state": {
            "_model_module": "@jupyter-widgets/base",
            "_model_module_version": "1.2.0",
            "_model_name": "LayoutModel",
            "_view_count": null,
            "_view_module": "@jupyter-widgets/base",
            "_view_module_version": "1.2.0",
            "_view_name": "LayoutView",
            "align_content": null,
            "align_items": null,
            "align_self": null,
            "border": null,
            "bottom": null,
            "display": null,
            "flex": null,
            "flex_flow": null,
            "grid_area": null,
            "grid_auto_columns": null,
            "grid_auto_flow": null,
            "grid_auto_rows": null,
            "grid_column": null,
            "grid_gap": null,
            "grid_row": null,
            "grid_template_areas": null,
            "grid_template_columns": null,
            "grid_template_rows": null,
            "height": null,
            "justify_content": null,
            "justify_items": null,
            "left": null,
            "margin": null,
            "max_height": null,
            "max_width": null,
            "min_height": null,
            "min_width": null,
            "object_fit": null,
            "object_position": null,
            "order": null,
            "overflow": null,
            "overflow_x": null,
            "overflow_y": null,
            "padding": null,
            "right": null,
            "top": null,
            "visibility": "hidden",
            "width": null
          }
        },
        "81b2efd0faa24844a9a7249cad24f3a2": {
          "model_module": "@jupyter-widgets/base",
          "model_module_version": "1.2.0",
          "model_name": "LayoutModel",
          "state": {
            "_model_module": "@jupyter-widgets/base",
            "_model_module_version": "1.2.0",
            "_model_name": "LayoutModel",
            "_view_count": null,
            "_view_module": "@jupyter-widgets/base",
            "_view_module_version": "1.2.0",
            "_view_name": "LayoutView",
            "align_content": null,
            "align_items": null,
            "align_self": null,
            "border": null,
            "bottom": null,
            "display": null,
            "flex": null,
            "flex_flow": null,
            "grid_area": null,
            "grid_auto_columns": null,
            "grid_auto_flow": null,
            "grid_auto_rows": null,
            "grid_column": null,
            "grid_gap": null,
            "grid_row": null,
            "grid_template_areas": null,
            "grid_template_columns": null,
            "grid_template_rows": null,
            "height": null,
            "justify_content": null,
            "justify_items": null,
            "left": null,
            "margin": null,
            "max_height": null,
            "max_width": null,
            "min_height": null,
            "min_width": null,
            "object_fit": null,
            "object_position": null,
            "order": null,
            "overflow": null,
            "overflow_x": null,
            "overflow_y": null,
            "padding": null,
            "right": null,
            "top": null,
            "visibility": null,
            "width": null
          }
        },
        "8a2fd0e1600d41fba488cfa27eb5807f": {
          "model_module": "@jupyter-widgets/base",
          "model_module_version": "1.2.0",
          "model_name": "LayoutModel",
          "state": {
            "_model_module": "@jupyter-widgets/base",
            "_model_module_version": "1.2.0",
            "_model_name": "LayoutModel",
            "_view_count": null,
            "_view_module": "@jupyter-widgets/base",
            "_view_module_version": "1.2.0",
            "_view_name": "LayoutView",
            "align_content": null,
            "align_items": null,
            "align_self": null,
            "border": null,
            "bottom": null,
            "display": null,
            "flex": null,
            "flex_flow": null,
            "grid_area": null,
            "grid_auto_columns": null,
            "grid_auto_flow": null,
            "grid_auto_rows": null,
            "grid_column": null,
            "grid_gap": null,
            "grid_row": null,
            "grid_template_areas": null,
            "grid_template_columns": null,
            "grid_template_rows": null,
            "height": null,
            "justify_content": null,
            "justify_items": null,
            "left": null,
            "margin": null,
            "max_height": null,
            "max_width": null,
            "min_height": null,
            "min_width": null,
            "object_fit": null,
            "object_position": null,
            "order": null,
            "overflow": null,
            "overflow_x": null,
            "overflow_y": null,
            "padding": null,
            "right": null,
            "top": null,
            "visibility": null,
            "width": null
          }
        },
        "8b7c802357cb4864b5f8f669cd595738": {
          "model_module": "@jupyter-widgets/base",
          "model_module_version": "1.2.0",
          "model_name": "LayoutModel",
          "state": {
            "_model_module": "@jupyter-widgets/base",
            "_model_module_version": "1.2.0",
            "_model_name": "LayoutModel",
            "_view_count": null,
            "_view_module": "@jupyter-widgets/base",
            "_view_module_version": "1.2.0",
            "_view_name": "LayoutView",
            "align_content": null,
            "align_items": null,
            "align_self": null,
            "border": null,
            "bottom": null,
            "display": null,
            "flex": null,
            "flex_flow": null,
            "grid_area": null,
            "grid_auto_columns": null,
            "grid_auto_flow": null,
            "grid_auto_rows": null,
            "grid_column": null,
            "grid_gap": null,
            "grid_row": null,
            "grid_template_areas": null,
            "grid_template_columns": null,
            "grid_template_rows": null,
            "height": null,
            "justify_content": null,
            "justify_items": null,
            "left": null,
            "margin": null,
            "max_height": null,
            "max_width": null,
            "min_height": null,
            "min_width": null,
            "object_fit": null,
            "object_position": null,
            "order": null,
            "overflow": null,
            "overflow_x": null,
            "overflow_y": null,
            "padding": null,
            "right": null,
            "top": null,
            "visibility": null,
            "width": null
          }
        },
        "8fc72ce810954350b370d6fc0c510693": {
          "model_module": "@jupyter-widgets/base",
          "model_module_version": "1.2.0",
          "model_name": "LayoutModel",
          "state": {
            "_model_module": "@jupyter-widgets/base",
            "_model_module_version": "1.2.0",
            "_model_name": "LayoutModel",
            "_view_count": null,
            "_view_module": "@jupyter-widgets/base",
            "_view_module_version": "1.2.0",
            "_view_name": "LayoutView",
            "align_content": null,
            "align_items": null,
            "align_self": null,
            "border": null,
            "bottom": null,
            "display": null,
            "flex": null,
            "flex_flow": null,
            "grid_area": null,
            "grid_auto_columns": null,
            "grid_auto_flow": null,
            "grid_auto_rows": null,
            "grid_column": null,
            "grid_gap": null,
            "grid_row": null,
            "grid_template_areas": null,
            "grid_template_columns": null,
            "grid_template_rows": null,
            "height": null,
            "justify_content": null,
            "justify_items": null,
            "left": null,
            "margin": null,
            "max_height": null,
            "max_width": null,
            "min_height": null,
            "min_width": null,
            "object_fit": null,
            "object_position": null,
            "order": null,
            "overflow": null,
            "overflow_x": null,
            "overflow_y": null,
            "padding": null,
            "right": null,
            "top": null,
            "visibility": null,
            "width": null
          }
        },
        "90a5a6747d704cc09695dbb105848839": {
          "model_module": "@jupyter-widgets/controls",
          "model_module_version": "1.5.0",
          "model_name": "FloatProgressModel",
          "state": {
            "_dom_classes": [],
            "_model_module": "@jupyter-widgets/controls",
            "_model_module_version": "1.5.0",
            "_model_name": "FloatProgressModel",
            "_view_count": null,
            "_view_module": "@jupyter-widgets/controls",
            "_view_module_version": "1.5.0",
            "_view_name": "ProgressView",
            "bar_style": "",
            "description": "",
            "description_tooltip": null,
            "layout": "IPY_MODEL_8a2fd0e1600d41fba488cfa27eb5807f",
            "max": 1,
            "min": 0,
            "orientation": "horizontal",
            "style": "IPY_MODEL_cda24b57ff1644d48f789ce22f2a636b",
            "value": 1
          }
        },
        "91492127d3234c2c9006da7eb68310a2": {
          "model_module": "@jupyter-widgets/controls",
          "model_module_version": "1.5.0",
          "model_name": "DescriptionStyleModel",
          "state": {
            "_model_module": "@jupyter-widgets/controls",
            "_model_module_version": "1.5.0",
            "_model_name": "DescriptionStyleModel",
            "_view_count": null,
            "_view_module": "@jupyter-widgets/base",
            "_view_module_version": "1.2.0",
            "_view_name": "StyleView",
            "description_width": ""
          }
        },
        "94450f11b05b46bfa1205e2fdd50a0c7": {
          "model_module": "@jupyter-widgets/controls",
          "model_module_version": "1.5.0",
          "model_name": "HBoxModel",
          "state": {
            "_dom_classes": [],
            "_model_module": "@jupyter-widgets/controls",
            "_model_module_version": "1.5.0",
            "_model_name": "HBoxModel",
            "_view_count": null,
            "_view_module": "@jupyter-widgets/controls",
            "_view_module_version": "1.5.0",
            "_view_name": "HBoxView",
            "box_style": "",
            "children": [
              "IPY_MODEL_4f9c86746751416dbc341a656f0128d9",
              "IPY_MODEL_90a5a6747d704cc09695dbb105848839",
              "IPY_MODEL_0857d6ad6b364bebb36b8e288852909e"
            ],
            "layout": "IPY_MODEL_7b51bd73e7a44ac3bbb7ddb5901b123f"
          }
        },
        "96275473cd174d0b9ef38e2a2139ab5f": {
          "model_module": "@jupyter-widgets/controls",
          "model_module_version": "1.5.0",
          "model_name": "HTMLModel",
          "state": {
            "_dom_classes": [],
            "_model_module": "@jupyter-widgets/controls",
            "_model_module_version": "1.5.0",
            "_model_name": "HTMLModel",
            "_view_count": null,
            "_view_module": "@jupyter-widgets/controls",
            "_view_module_version": "1.5.0",
            "_view_name": "HTMLView",
            "description": "",
            "description_tooltip": null,
            "layout": "IPY_MODEL_e88e6471b1e443bbbf42160940b84028",
            "placeholder": "​",
            "style": "IPY_MODEL_3abca4bb3cd641c4bb970f9797374056",
            "value": " 1/1 [00:00&lt;00:00, 66.14ba/s]"
          }
        },
        "9a015dcbcfde485fbadc36487b1bea34": {
          "model_module": "@jupyter-widgets/base",
          "model_module_version": "1.2.0",
          "model_name": "LayoutModel",
          "state": {
            "_model_module": "@jupyter-widgets/base",
            "_model_module_version": "1.2.0",
            "_model_name": "LayoutModel",
            "_view_count": null,
            "_view_module": "@jupyter-widgets/base",
            "_view_module_version": "1.2.0",
            "_view_name": "LayoutView",
            "align_content": null,
            "align_items": null,
            "align_self": null,
            "border": null,
            "bottom": null,
            "display": null,
            "flex": null,
            "flex_flow": null,
            "grid_area": null,
            "grid_auto_columns": null,
            "grid_auto_flow": null,
            "grid_auto_rows": null,
            "grid_column": null,
            "grid_gap": null,
            "grid_row": null,
            "grid_template_areas": null,
            "grid_template_columns": null,
            "grid_template_rows": null,
            "height": null,
            "justify_content": null,
            "justify_items": null,
            "left": null,
            "margin": null,
            "max_height": null,
            "max_width": null,
            "min_height": null,
            "min_width": null,
            "object_fit": null,
            "object_position": null,
            "order": null,
            "overflow": null,
            "overflow_x": null,
            "overflow_y": null,
            "padding": null,
            "right": null,
            "top": null,
            "visibility": null,
            "width": null
          }
        },
        "9acbb4484d9a4109bd1c716149597ae0": {
          "model_module": "@jupyter-widgets/base",
          "model_module_version": "1.2.0",
          "model_name": "LayoutModel",
          "state": {
            "_model_module": "@jupyter-widgets/base",
            "_model_module_version": "1.2.0",
            "_model_name": "LayoutModel",
            "_view_count": null,
            "_view_module": "@jupyter-widgets/base",
            "_view_module_version": "1.2.0",
            "_view_name": "LayoutView",
            "align_content": null,
            "align_items": null,
            "align_self": null,
            "border": null,
            "bottom": null,
            "display": null,
            "flex": null,
            "flex_flow": null,
            "grid_area": null,
            "grid_auto_columns": null,
            "grid_auto_flow": null,
            "grid_auto_rows": null,
            "grid_column": null,
            "grid_gap": null,
            "grid_row": null,
            "grid_template_areas": null,
            "grid_template_columns": null,
            "grid_template_rows": null,
            "height": null,
            "justify_content": null,
            "justify_items": null,
            "left": null,
            "margin": null,
            "max_height": null,
            "max_width": null,
            "min_height": null,
            "min_width": null,
            "object_fit": null,
            "object_position": null,
            "order": null,
            "overflow": null,
            "overflow_x": null,
            "overflow_y": null,
            "padding": null,
            "right": null,
            "top": null,
            "visibility": null,
            "width": null
          }
        },
        "9b72a3903c154d38800368f2f1826afd": {
          "model_module": "@jupyter-widgets/controls",
          "model_module_version": "1.5.0",
          "model_name": "HTMLModel",
          "state": {
            "_dom_classes": [],
            "_model_module": "@jupyter-widgets/controls",
            "_model_module_version": "1.5.0",
            "_model_name": "HTMLModel",
            "_view_count": null,
            "_view_module": "@jupyter-widgets/controls",
            "_view_module_version": "1.5.0",
            "_view_name": "HTMLView",
            "description": "",
            "description_tooltip": null,
            "layout": "IPY_MODEL_81b2efd0faa24844a9a7249cad24f3a2",
            "placeholder": "​",
            "style": "IPY_MODEL_e1dfa24610f046dc83bd4de71d68275e",
            "value": " 7/7 [00:00&lt;00:00, 116.04ba/s]"
          }
        },
        "9c0e6dcf695149caadb21e020921d4de": {
          "model_module": "@jupyter-widgets/base",
          "model_module_version": "1.2.0",
          "model_name": "LayoutModel",
          "state": {
            "_model_module": "@jupyter-widgets/base",
            "_model_module_version": "1.2.0",
            "_model_name": "LayoutModel",
            "_view_count": null,
            "_view_module": "@jupyter-widgets/base",
            "_view_module_version": "1.2.0",
            "_view_name": "LayoutView",
            "align_content": null,
            "align_items": null,
            "align_self": null,
            "border": null,
            "bottom": null,
            "display": null,
            "flex": null,
            "flex_flow": null,
            "grid_area": null,
            "grid_auto_columns": null,
            "grid_auto_flow": null,
            "grid_auto_rows": null,
            "grid_column": null,
            "grid_gap": null,
            "grid_row": null,
            "grid_template_areas": null,
            "grid_template_columns": null,
            "grid_template_rows": null,
            "height": null,
            "justify_content": null,
            "justify_items": null,
            "left": null,
            "margin": null,
            "max_height": null,
            "max_width": null,
            "min_height": null,
            "min_width": null,
            "object_fit": null,
            "object_position": null,
            "order": null,
            "overflow": null,
            "overflow_x": null,
            "overflow_y": null,
            "padding": null,
            "right": null,
            "top": null,
            "visibility": null,
            "width": null
          }
        },
        "9c6654f07bf84c798fa69c3e3921329e": {
          "model_module": "@jupyter-widgets/controls",
          "model_module_version": "1.5.0",
          "model_name": "DescriptionStyleModel",
          "state": {
            "_model_module": "@jupyter-widgets/controls",
            "_model_module_version": "1.5.0",
            "_model_name": "DescriptionStyleModel",
            "_view_count": null,
            "_view_module": "@jupyter-widgets/base",
            "_view_module_version": "1.2.0",
            "_view_name": "StyleView",
            "description_width": ""
          }
        },
        "a5c14f316c6645daa2508c45c3f23a18": {
          "model_module": "@jupyter-widgets/base",
          "model_module_version": "1.2.0",
          "model_name": "LayoutModel",
          "state": {
            "_model_module": "@jupyter-widgets/base",
            "_model_module_version": "1.2.0",
            "_model_name": "LayoutModel",
            "_view_count": null,
            "_view_module": "@jupyter-widgets/base",
            "_view_module_version": "1.2.0",
            "_view_name": "LayoutView",
            "align_content": null,
            "align_items": null,
            "align_self": null,
            "border": null,
            "bottom": null,
            "display": null,
            "flex": null,
            "flex_flow": null,
            "grid_area": null,
            "grid_auto_columns": null,
            "grid_auto_flow": null,
            "grid_auto_rows": null,
            "grid_column": null,
            "grid_gap": null,
            "grid_row": null,
            "grid_template_areas": null,
            "grid_template_columns": null,
            "grid_template_rows": null,
            "height": null,
            "justify_content": null,
            "justify_items": null,
            "left": null,
            "margin": null,
            "max_height": null,
            "max_width": null,
            "min_height": null,
            "min_width": null,
            "object_fit": null,
            "object_position": null,
            "order": null,
            "overflow": null,
            "overflow_x": null,
            "overflow_y": null,
            "padding": null,
            "right": null,
            "top": null,
            "visibility": null,
            "width": "20px"
          }
        },
        "a71c29a33bf24d3092cad84cd41d04c7": {
          "model_module": "@jupyter-widgets/controls",
          "model_module_version": "1.5.0",
          "model_name": "HTMLModel",
          "state": {
            "_dom_classes": [],
            "_model_module": "@jupyter-widgets/controls",
            "_model_module_version": "1.5.0",
            "_model_name": "HTMLModel",
            "_view_count": null,
            "_view_module": "@jupyter-widgets/controls",
            "_view_module_version": "1.5.0",
            "_view_name": "HTMLView",
            "description": "",
            "description_tooltip": null,
            "layout": "IPY_MODEL_9acbb4484d9a4109bd1c716149597ae0",
            "placeholder": "​",
            "style": "IPY_MODEL_d9cddb1d1d42481996f79b0398e0baa1",
            "value": "Creating json from Arrow format: 100%"
          }
        },
        "ab755d7a729e408fb4564c1c288f7cce": {
          "model_module": "@jupyter-widgets/controls",
          "model_module_version": "1.5.0",
          "model_name": "FloatProgressModel",
          "state": {
            "_dom_classes": [],
            "_model_module": "@jupyter-widgets/controls",
            "_model_module_version": "1.5.0",
            "_model_name": "FloatProgressModel",
            "_view_count": null,
            "_view_module": "@jupyter-widgets/controls",
            "_view_module_version": "1.5.0",
            "_view_name": "ProgressView",
            "bar_style": "success",
            "description": "",
            "description_tooltip": null,
            "layout": "IPY_MODEL_d7a1b98b8690409a83de6a4306bcafa2",
            "max": 7,
            "min": 0,
            "orientation": "horizontal",
            "style": "IPY_MODEL_68e277c0f5ae4b2bb230eff482de6f71",
            "value": 7
          }
        },
        "af94039275094debba03f5174465523e": {
          "model_module": "@jupyter-widgets/controls",
          "model_module_version": "1.5.0",
          "model_name": "DescriptionStyleModel",
          "state": {
            "_model_module": "@jupyter-widgets/controls",
            "_model_module_version": "1.5.0",
            "_model_name": "DescriptionStyleModel",
            "_view_count": null,
            "_view_module": "@jupyter-widgets/base",
            "_view_module_version": "1.2.0",
            "_view_name": "StyleView",
            "description_width": ""
          }
        },
        "b356a382e4b7458f8105b81d32255e97": {
          "model_module": "@jupyter-widgets/controls",
          "model_module_version": "1.5.0",
          "model_name": "ProgressStyleModel",
          "state": {
            "_model_module": "@jupyter-widgets/controls",
            "_model_module_version": "1.5.0",
            "_model_name": "ProgressStyleModel",
            "_view_count": null,
            "_view_module": "@jupyter-widgets/base",
            "_view_module_version": "1.2.0",
            "_view_name": "StyleView",
            "bar_color": null,
            "description_width": ""
          }
        },
        "c18b19a5db4646f7868fbc0ed3fc6c51": {
          "model_module": "@jupyter-widgets/base",
          "model_module_version": "1.2.0",
          "model_name": "LayoutModel",
          "state": {
            "_model_module": "@jupyter-widgets/base",
            "_model_module_version": "1.2.0",
            "_model_name": "LayoutModel",
            "_view_count": null,
            "_view_module": "@jupyter-widgets/base",
            "_view_module_version": "1.2.0",
            "_view_name": "LayoutView",
            "align_content": null,
            "align_items": null,
            "align_self": null,
            "border": null,
            "bottom": null,
            "display": null,
            "flex": null,
            "flex_flow": null,
            "grid_area": null,
            "grid_auto_columns": null,
            "grid_auto_flow": null,
            "grid_auto_rows": null,
            "grid_column": null,
            "grid_gap": null,
            "grid_row": null,
            "grid_template_areas": null,
            "grid_template_columns": null,
            "grid_template_rows": null,
            "height": null,
            "justify_content": null,
            "justify_items": null,
            "left": null,
            "margin": null,
            "max_height": null,
            "max_width": null,
            "min_height": null,
            "min_width": null,
            "object_fit": null,
            "object_position": null,
            "order": null,
            "overflow": null,
            "overflow_x": null,
            "overflow_y": null,
            "padding": null,
            "right": null,
            "top": null,
            "visibility": null,
            "width": null
          }
        },
        "c5025f7eb4ba4a9faad592cdbcd83341": {
          "model_module": "@jupyter-widgets/controls",
          "model_module_version": "1.5.0",
          "model_name": "HBoxModel",
          "state": {
            "_dom_classes": [],
            "_model_module": "@jupyter-widgets/controls",
            "_model_module_version": "1.5.0",
            "_model_name": "HBoxModel",
            "_view_count": null,
            "_view_module": "@jupyter-widgets/controls",
            "_view_module_version": "1.5.0",
            "_view_name": "HBoxView",
            "box_style": "",
            "children": [
              "IPY_MODEL_cff9ee30cdc2468da3913c4f3503f94f",
              "IPY_MODEL_d494966e86b84bcf850a20cce99dddfe",
              "IPY_MODEL_02428034c5ea44d080ab67e6e345a792"
            ],
            "layout": "IPY_MODEL_1a48677c11df4b3e9866851ff3b77cd4"
          }
        },
        "c57445bff9b64496b41c97ec3db86306": {
          "model_module": "@jupyter-widgets/controls",
          "model_module_version": "1.5.0",
          "model_name": "FloatProgressModel",
          "state": {
            "_dom_classes": [],
            "_model_module": "@jupyter-widgets/controls",
            "_model_module_version": "1.5.0",
            "_model_name": "FloatProgressModel",
            "_view_count": null,
            "_view_module": "@jupyter-widgets/controls",
            "_view_module_version": "1.5.0",
            "_view_name": "ProgressView",
            "bar_style": "success",
            "description": "",
            "description_tooltip": null,
            "layout": "IPY_MODEL_1094975d49164de08ac1362f3be19ef4",
            "max": 1,
            "min": 0,
            "orientation": "horizontal",
            "style": "IPY_MODEL_62f0081a766a42da8912324d99154226",
            "value": 1
          }
        },
        "c6cf3427c6334609951e89576396617c": {
          "model_module": "@jupyter-widgets/base",
          "model_module_version": "1.2.0",
          "model_name": "LayoutModel",
          "state": {
            "_model_module": "@jupyter-widgets/base",
            "_model_module_version": "1.2.0",
            "_model_name": "LayoutModel",
            "_view_count": null,
            "_view_module": "@jupyter-widgets/base",
            "_view_module_version": "1.2.0",
            "_view_name": "LayoutView",
            "align_content": null,
            "align_items": null,
            "align_self": null,
            "border": null,
            "bottom": null,
            "display": null,
            "flex": null,
            "flex_flow": null,
            "grid_area": null,
            "grid_auto_columns": null,
            "grid_auto_flow": null,
            "grid_auto_rows": null,
            "grid_column": null,
            "grid_gap": null,
            "grid_row": null,
            "grid_template_areas": null,
            "grid_template_columns": null,
            "grid_template_rows": null,
            "height": null,
            "justify_content": null,
            "justify_items": null,
            "left": null,
            "margin": null,
            "max_height": null,
            "max_width": null,
            "min_height": null,
            "min_width": null,
            "object_fit": null,
            "object_position": null,
            "order": null,
            "overflow": null,
            "overflow_x": null,
            "overflow_y": null,
            "padding": null,
            "right": null,
            "top": null,
            "visibility": null,
            "width": null
          }
        },
        "c736edd813374ba2a573f7c8d7b7edf5": {
          "model_module": "@jupyter-widgets/base",
          "model_module_version": "1.2.0",
          "model_name": "LayoutModel",
          "state": {
            "_model_module": "@jupyter-widgets/base",
            "_model_module_version": "1.2.0",
            "_model_name": "LayoutModel",
            "_view_count": null,
            "_view_module": "@jupyter-widgets/base",
            "_view_module_version": "1.2.0",
            "_view_name": "LayoutView",
            "align_content": null,
            "align_items": null,
            "align_self": null,
            "border": null,
            "bottom": null,
            "display": null,
            "flex": null,
            "flex_flow": null,
            "grid_area": null,
            "grid_auto_columns": null,
            "grid_auto_flow": null,
            "grid_auto_rows": null,
            "grid_column": null,
            "grid_gap": null,
            "grid_row": null,
            "grid_template_areas": null,
            "grid_template_columns": null,
            "grid_template_rows": null,
            "height": null,
            "justify_content": null,
            "justify_items": null,
            "left": null,
            "margin": null,
            "max_height": null,
            "max_width": null,
            "min_height": null,
            "min_width": null,
            "object_fit": null,
            "object_position": null,
            "order": null,
            "overflow": null,
            "overflow_x": null,
            "overflow_y": null,
            "padding": null,
            "right": null,
            "top": null,
            "visibility": null,
            "width": "20px"
          }
        },
        "cda24b57ff1644d48f789ce22f2a636b": {
          "model_module": "@jupyter-widgets/controls",
          "model_module_version": "1.5.0",
          "model_name": "ProgressStyleModel",
          "state": {
            "_model_module": "@jupyter-widgets/controls",
            "_model_module_version": "1.5.0",
            "_model_name": "ProgressStyleModel",
            "_view_count": null,
            "_view_module": "@jupyter-widgets/base",
            "_view_module_version": "1.2.0",
            "_view_name": "StyleView",
            "bar_color": null,
            "description_width": ""
          }
        },
        "cff9ee30cdc2468da3913c4f3503f94f": {
          "model_module": "@jupyter-widgets/controls",
          "model_module_version": "1.5.0",
          "model_name": "HTMLModel",
          "state": {
            "_dom_classes": [],
            "_model_module": "@jupyter-widgets/controls",
            "_model_module_version": "1.5.0",
            "_model_name": "HTMLModel",
            "_view_count": null,
            "_view_module": "@jupyter-widgets/controls",
            "_view_module_version": "1.5.0",
            "_view_name": "HTMLView",
            "description": "",
            "description_tooltip": null,
            "layout": "IPY_MODEL_8b7c802357cb4864b5f8f669cd595738",
            "placeholder": "​",
            "style": "IPY_MODEL_102ef47779a84c118380cf6e8b576b53",
            "value": "Generating train split: "
          }
        },
        "d494966e86b84bcf850a20cce99dddfe": {
          "model_module": "@jupyter-widgets/controls",
          "model_module_version": "1.5.0",
          "model_name": "FloatProgressModel",
          "state": {
            "_dom_classes": [],
            "_model_module": "@jupyter-widgets/controls",
            "_model_module_version": "1.5.0",
            "_model_name": "FloatProgressModel",
            "_view_count": null,
            "_view_module": "@jupyter-widgets/controls",
            "_view_module_version": "1.5.0",
            "_view_name": "ProgressView",
            "bar_style": "success",
            "description": "",
            "description_tooltip": null,
            "layout": "IPY_MODEL_a5c14f316c6645daa2508c45c3f23a18",
            "max": 1,
            "min": 0,
            "orientation": "horizontal",
            "style": "IPY_MODEL_df75ff6d55e04826b126b785a5414c1b",
            "value": 1
          }
        },
        "d7a1b98b8690409a83de6a4306bcafa2": {
          "model_module": "@jupyter-widgets/base",
          "model_module_version": "1.2.0",
          "model_name": "LayoutModel",
          "state": {
            "_model_module": "@jupyter-widgets/base",
            "_model_module_version": "1.2.0",
            "_model_name": "LayoutModel",
            "_view_count": null,
            "_view_module": "@jupyter-widgets/base",
            "_view_module_version": "1.2.0",
            "_view_name": "LayoutView",
            "align_content": null,
            "align_items": null,
            "align_self": null,
            "border": null,
            "bottom": null,
            "display": null,
            "flex": null,
            "flex_flow": null,
            "grid_area": null,
            "grid_auto_columns": null,
            "grid_auto_flow": null,
            "grid_auto_rows": null,
            "grid_column": null,
            "grid_gap": null,
            "grid_row": null,
            "grid_template_areas": null,
            "grid_template_columns": null,
            "grid_template_rows": null,
            "height": null,
            "justify_content": null,
            "justify_items": null,
            "left": null,
            "margin": null,
            "max_height": null,
            "max_width": null,
            "min_height": null,
            "min_width": null,
            "object_fit": null,
            "object_position": null,
            "order": null,
            "overflow": null,
            "overflow_x": null,
            "overflow_y": null,
            "padding": null,
            "right": null,
            "top": null,
            "visibility": null,
            "width": null
          }
        },
        "d9cddb1d1d42481996f79b0398e0baa1": {
          "model_module": "@jupyter-widgets/controls",
          "model_module_version": "1.5.0",
          "model_name": "DescriptionStyleModel",
          "state": {
            "_model_module": "@jupyter-widgets/controls",
            "_model_module_version": "1.5.0",
            "_model_name": "DescriptionStyleModel",
            "_view_count": null,
            "_view_module": "@jupyter-widgets/base",
            "_view_module_version": "1.2.0",
            "_view_name": "StyleView",
            "description_width": ""
          }
        },
        "dccf5f55501f4354901e7a7678bf1e84": {
          "model_module": "@jupyter-widgets/controls",
          "model_module_version": "1.5.0",
          "model_name": "DescriptionStyleModel",
          "state": {
            "_model_module": "@jupyter-widgets/controls",
            "_model_module_version": "1.5.0",
            "_model_name": "DescriptionStyleModel",
            "_view_count": null,
            "_view_module": "@jupyter-widgets/base",
            "_view_module_version": "1.2.0",
            "_view_name": "StyleView",
            "description_width": ""
          }
        },
        "df75ff6d55e04826b126b785a5414c1b": {
          "model_module": "@jupyter-widgets/controls",
          "model_module_version": "1.5.0",
          "model_name": "ProgressStyleModel",
          "state": {
            "_model_module": "@jupyter-widgets/controls",
            "_model_module_version": "1.5.0",
            "_model_name": "ProgressStyleModel",
            "_view_count": null,
            "_view_module": "@jupyter-widgets/base",
            "_view_module_version": "1.2.0",
            "_view_name": "StyleView",
            "bar_color": null,
            "description_width": ""
          }
        },
        "e1dfa24610f046dc83bd4de71d68275e": {
          "model_module": "@jupyter-widgets/controls",
          "model_module_version": "1.5.0",
          "model_name": "DescriptionStyleModel",
          "state": {
            "_model_module": "@jupyter-widgets/controls",
            "_model_module_version": "1.5.0",
            "_model_name": "DescriptionStyleModel",
            "_view_count": null,
            "_view_module": "@jupyter-widgets/base",
            "_view_module_version": "1.2.0",
            "_view_name": "StyleView",
            "description_width": ""
          }
        },
        "e1fa91589f494ae89d47a2a8649e3f46": {
          "model_module": "@jupyter-widgets/controls",
          "model_module_version": "1.5.0",
          "model_name": "HTMLModel",
          "state": {
            "_dom_classes": [],
            "_model_module": "@jupyter-widgets/controls",
            "_model_module_version": "1.5.0",
            "_model_name": "HTMLModel",
            "_view_count": null,
            "_view_module": "@jupyter-widgets/controls",
            "_view_module_version": "1.5.0",
            "_view_name": "HTMLView",
            "description": "",
            "description_tooltip": null,
            "layout": "IPY_MODEL_8fc72ce810954350b370d6fc0c510693",
            "placeholder": "​",
            "style": "IPY_MODEL_1b88373ba3384f08b16409b768ea7b0f",
            "value": "Creating json from Arrow format: 100%"
          }
        },
        "e88e6471b1e443bbbf42160940b84028": {
          "model_module": "@jupyter-widgets/base",
          "model_module_version": "1.2.0",
          "model_name": "LayoutModel",
          "state": {
            "_model_module": "@jupyter-widgets/base",
            "_model_module_version": "1.2.0",
            "_model_name": "LayoutModel",
            "_view_count": null,
            "_view_module": "@jupyter-widgets/base",
            "_view_module_version": "1.2.0",
            "_view_name": "LayoutView",
            "align_content": null,
            "align_items": null,
            "align_self": null,
            "border": null,
            "bottom": null,
            "display": null,
            "flex": null,
            "flex_flow": null,
            "grid_area": null,
            "grid_auto_columns": null,
            "grid_auto_flow": null,
            "grid_auto_rows": null,
            "grid_column": null,
            "grid_gap": null,
            "grid_row": null,
            "grid_template_areas": null,
            "grid_template_columns": null,
            "grid_template_rows": null,
            "height": null,
            "justify_content": null,
            "justify_items": null,
            "left": null,
            "margin": null,
            "max_height": null,
            "max_width": null,
            "min_height": null,
            "min_width": null,
            "object_fit": null,
            "object_position": null,
            "order": null,
            "overflow": null,
            "overflow_x": null,
            "overflow_y": null,
            "padding": null,
            "right": null,
            "top": null,
            "visibility": null,
            "width": null
          }
        },
        "f323700c249d4995949d58d8369882e6": {
          "model_module": "@jupyter-widgets/base",
          "model_module_version": "1.2.0",
          "model_name": "LayoutModel",
          "state": {
            "_model_module": "@jupyter-widgets/base",
            "_model_module_version": "1.2.0",
            "_model_name": "LayoutModel",
            "_view_count": null,
            "_view_module": "@jupyter-widgets/base",
            "_view_module_version": "1.2.0",
            "_view_name": "LayoutView",
            "align_content": null,
            "align_items": null,
            "align_self": null,
            "border": null,
            "bottom": null,
            "display": null,
            "flex": null,
            "flex_flow": null,
            "grid_area": null,
            "grid_auto_columns": null,
            "grid_auto_flow": null,
            "grid_auto_rows": null,
            "grid_column": null,
            "grid_gap": null,
            "grid_row": null,
            "grid_template_areas": null,
            "grid_template_columns": null,
            "grid_template_rows": null,
            "height": null,
            "justify_content": null,
            "justify_items": null,
            "left": null,
            "margin": null,
            "max_height": null,
            "max_width": null,
            "min_height": null,
            "min_width": null,
            "object_fit": null,
            "object_position": null,
            "order": null,
            "overflow": null,
            "overflow_x": null,
            "overflow_y": null,
            "padding": null,
            "right": null,
            "top": null,
            "visibility": null,
            "width": null
          }
        }
      }
    }
  },
  "nbformat": 4,
  "nbformat_minor": 0
}
