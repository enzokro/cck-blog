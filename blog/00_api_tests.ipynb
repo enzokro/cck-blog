{
 "cells": [
  {
   "cell_type": "markdown",
   "metadata": {},
   "source": [
    "# throaway notebook for quick library tests"
   ]
  },
  {
   "cell_type": "code",
   "execution_count": 1,
   "metadata": {},
   "outputs": [],
   "source": [
    "from fasthtml.common import *\n",
    "from monsterui.all import *"
   ]
  },
  {
   "cell_type": "code",
   "execution_count": 2,
   "metadata": {},
   "outputs": [
    {
     "name": "stdout",
     "output_type": "stream",
     "text": [
      "\u001b[31mSignature:\u001b[39m\n",
      "Theme.slate.headers(\n",
      "    mode=\u001b[33m'auto'\u001b[39m,\n",
      "    daisy=\u001b[38;5;28;01mTrue\u001b[39;00m,\n",
      "    highlightjs=\u001b[38;5;28;01mFalse\u001b[39;00m,\n",
      "    katex=\u001b[38;5;28;01mTrue\u001b[39;00m,\n",
      "    radii=<ThemeRadii.sm: \u001b[33m'uk-radii-sm'\u001b[39m>,\n",
      "    shadows=\u001b[33m'uk-shadows-sm'\u001b[39m,\n",
      "    font=\u001b[33m'uk-font-sm'\u001b[39m,\n",
      ")\n",
      "\u001b[31mSource:\u001b[39m   \n",
      "    \u001b[38;5;28;01mdef\u001b[39;00m headers(self, mode=\u001b[33m'auto'\u001b[39m, daisy=\u001b[38;5;28;01mTrue\u001b[39;00m, highlightjs=\u001b[38;5;28;01mFalse\u001b[39;00m, katex=\u001b[38;5;28;01mTrue\u001b[39;00m, radii=ThemeRadii.sm, shadows=ThemeShadows.sm, font=ThemeFont.sm ):\n",
      "        \u001b[33m\"Create frankenui and tailwind cdns\"\u001b[39m\n",
      "        \u001b[38;5;28;01mreturn\u001b[39;00m self._create_headers(HEADER_URLS, mode=mode, daisy=daisy, highlightjs=highlightjs, katex=katex, radii=radii, shadows=shadows, font=font)\n",
      "\u001b[31mFile:\u001b[39m      ~/projects/cck-blog/.venv/lib/python3.12/site-packages/monsterui/core.py\n",
      "\u001b[31mType:\u001b[39m      method"
     ]
    }
   ],
   "source": [
    "Theme.slate.headers??"
   ]
  },
  {
   "cell_type": "code",
   "execution_count": 3,
   "metadata": {},
   "outputs": [
    {
     "name": "stdout",
     "output_type": "stream",
     "text": [
      "\u001b[31mInit signature:\u001b[39m\n",
      "Mount(\n",
      "    path: \u001b[33m'str'\u001b[39m,\n",
      "    app: \u001b[33m'ASGIApp | None'\u001b[39m = \u001b[38;5;28;01mNone\u001b[39;00m,\n",
      "    routes: \u001b[33m'typing.Sequence[BaseRoute] | None'\u001b[39m = \u001b[38;5;28;01mNone\u001b[39;00m,\n",
      "    name: \u001b[33m'str | None'\u001b[39m = \u001b[38;5;28;01mNone\u001b[39;00m,\n",
      "    *,\n",
      "    middleware: \u001b[33m'typing.Sequence[Middleware] | None'\u001b[39m = \u001b[38;5;28;01mNone\u001b[39;00m,\n",
      ") -> \u001b[33m'None'\u001b[39m\n",
      "\u001b[31mDocstring:\u001b[39m      <no docstring>\n",
      "\u001b[31mSource:\u001b[39m        \n",
      "\u001b[38;5;28;01mclass\u001b[39;00m Mount(BaseRoute):\n",
      "    \u001b[38;5;28;01mdef\u001b[39;00m __init__(\n",
      "        self,\n",
      "        path: str,\n",
      "        app: ASGIApp | \u001b[38;5;28;01mNone\u001b[39;00m = \u001b[38;5;28;01mNone\u001b[39;00m,\n",
      "        routes: typing.Sequence[BaseRoute] | \u001b[38;5;28;01mNone\u001b[39;00m = \u001b[38;5;28;01mNone\u001b[39;00m,\n",
      "        name: str | \u001b[38;5;28;01mNone\u001b[39;00m = \u001b[38;5;28;01mNone\u001b[39;00m,\n",
      "        *,\n",
      "        middleware: typing.Sequence[Middleware] | \u001b[38;5;28;01mNone\u001b[39;00m = \u001b[38;5;28;01mNone\u001b[39;00m,\n",
      "    ) -> \u001b[38;5;28;01mNone\u001b[39;00m:\n",
      "        \u001b[38;5;28;01massert\u001b[39;00m path == \u001b[33m\"\"\u001b[39m \u001b[38;5;28;01mor\u001b[39;00m path.startswith(\u001b[33m\"/\"\u001b[39m), \u001b[33m\"Routed paths must start with '/'\"\u001b[39m\n",
      "        \u001b[38;5;28;01massert\u001b[39;00m app \u001b[38;5;28;01mis\u001b[39;00m \u001b[38;5;28;01mnot\u001b[39;00m \u001b[38;5;28;01mNone\u001b[39;00m \u001b[38;5;28;01mor\u001b[39;00m routes \u001b[38;5;28;01mis\u001b[39;00m \u001b[38;5;28;01mnot\u001b[39;00m \u001b[38;5;28;01mNone\u001b[39;00m, \u001b[33m\"Either 'app=...', or 'routes=' must be specified\"\u001b[39m\n",
      "        self.path = path.rstrip(\u001b[33m\"/\"\u001b[39m)\n",
      "        \u001b[38;5;28;01mif\u001b[39;00m app \u001b[38;5;28;01mis\u001b[39;00m \u001b[38;5;28;01mnot\u001b[39;00m \u001b[38;5;28;01mNone\u001b[39;00m:\n",
      "            self._base_app: ASGIApp = app\n",
      "        \u001b[38;5;28;01melse\u001b[39;00m:\n",
      "            self._base_app = Router(routes=routes)\n",
      "        self.app = self._base_app\n",
      "        \u001b[38;5;28;01mif\u001b[39;00m middleware \u001b[38;5;28;01mis\u001b[39;00m \u001b[38;5;28;01mnot\u001b[39;00m \u001b[38;5;28;01mNone\u001b[39;00m:\n",
      "            \u001b[38;5;28;01mfor\u001b[39;00m cls, args, kwargs \u001b[38;5;28;01min\u001b[39;00m reversed(middleware):\n",
      "                self.app = cls(self.app, *args, **kwargs)\n",
      "        self.name = name\n",
      "        self.path_regex, self.path_format, self.param_convertors = compile_path(self.path + \u001b[33m\"/{path:path}\"\u001b[39m)\n",
      "\n",
      "    @property\n",
      "    \u001b[38;5;28;01mdef\u001b[39;00m routes(self) -> list[BaseRoute]:\n",
      "        \u001b[38;5;28;01mreturn\u001b[39;00m getattr(self._base_app, \u001b[33m\"routes\"\u001b[39m, [])\n",
      "\n",
      "    \u001b[38;5;28;01mdef\u001b[39;00m matches(self, scope: Scope) -> tuple[Match, Scope]:\n",
      "        path_params: dict[str, typing.Any]\n",
      "        \u001b[38;5;28;01mif\u001b[39;00m scope[\u001b[33m\"type\"\u001b[39m] \u001b[38;5;28;01min\u001b[39;00m (\u001b[33m\"http\"\u001b[39m, \u001b[33m\"websocket\"\u001b[39m):  \u001b[38;5;66;03m# pragma: no branch\u001b[39;00m\n",
      "            root_path = scope.get(\u001b[33m\"root_path\"\u001b[39m, \u001b[33m\"\"\u001b[39m)\n",
      "            route_path = get_route_path(scope)\n",
      "            match = self.path_regex.match(route_path)\n",
      "            \u001b[38;5;28;01mif\u001b[39;00m match:\n",
      "                matched_params = match.groupdict()\n",
      "                \u001b[38;5;28;01mfor\u001b[39;00m key, value \u001b[38;5;28;01min\u001b[39;00m matched_params.items():\n",
      "                    matched_params[key] = self.param_convertors[key].convert(value)\n",
      "                remaining_path = \u001b[33m\"/\"\u001b[39m + matched_params.pop(\u001b[33m\"path\"\u001b[39m)\n",
      "                matched_path = route_path[: -len(remaining_path)]\n",
      "                path_params = dict(scope.get(\u001b[33m\"path_params\"\u001b[39m, {}))\n",
      "                path_params.update(matched_params)\n",
      "                child_scope = {\n",
      "                    \u001b[33m\"path_params\"\u001b[39m: path_params,\n",
      "                    \u001b[38;5;66;03m# app_root_path will only be set at the top level scope,\u001b[39;00m\n",
      "                    \u001b[38;5;66;03m# initialized with the (optional) value of a root_path\u001b[39;00m\n",
      "                    \u001b[38;5;66;03m# set above/before Starlette. And even though any\u001b[39;00m\n",
      "                    \u001b[38;5;66;03m# mount will have its own child scope with its own respective\u001b[39;00m\n",
      "                    \u001b[38;5;66;03m# root_path, the app_root_path will always be available in all\u001b[39;00m\n",
      "                    \u001b[38;5;66;03m# the child scopes with the same top level value because it's\u001b[39;00m\n",
      "                    \u001b[38;5;66;03m# set only once here with a default, any other child scope will\u001b[39;00m\n",
      "                    \u001b[38;5;66;03m# just inherit that app_root_path default value stored in the\u001b[39;00m\n",
      "                    \u001b[38;5;66;03m# scope. All this is needed to support Request.url_for(), as it\u001b[39;00m\n",
      "                    \u001b[38;5;66;03m# uses the app_root_path to build the URL path.\u001b[39;00m\n",
      "                    \u001b[33m\"app_root_path\"\u001b[39m: scope.get(\u001b[33m\"app_root_path\"\u001b[39m, root_path),\n",
      "                    \u001b[33m\"root_path\"\u001b[39m: root_path + matched_path,\n",
      "                    \u001b[33m\"endpoint\"\u001b[39m: self.app,\n",
      "                }\n",
      "                \u001b[38;5;28;01mreturn\u001b[39;00m Match.FULL, child_scope\n",
      "        \u001b[38;5;28;01mreturn\u001b[39;00m Match.NONE, {}\n",
      "\n",
      "    \u001b[38;5;28;01mdef\u001b[39;00m url_path_for(self, name: str, /, **path_params: typing.Any) -> URLPath:\n",
      "        \u001b[38;5;28;01mif\u001b[39;00m self.name \u001b[38;5;28;01mis\u001b[39;00m \u001b[38;5;28;01mnot\u001b[39;00m \u001b[38;5;28;01mNone\u001b[39;00m \u001b[38;5;28;01mand\u001b[39;00m name == self.name \u001b[38;5;28;01mand\u001b[39;00m \u001b[33m\"path\"\u001b[39m \u001b[38;5;28;01min\u001b[39;00m path_params:\n",
      "            \u001b[38;5;66;03m# 'name' matches \"<mount_name>\".\u001b[39;00m\n",
      "            path_params[\u001b[33m\"path\"\u001b[39m] = path_params[\u001b[33m\"path\"\u001b[39m].lstrip(\u001b[33m\"/\"\u001b[39m)\n",
      "            path, remaining_params = replace_params(self.path_format, self.param_convertors, path_params)\n",
      "            \u001b[38;5;28;01mif\u001b[39;00m \u001b[38;5;28;01mnot\u001b[39;00m remaining_params:\n",
      "                \u001b[38;5;28;01mreturn\u001b[39;00m URLPath(path=path)\n",
      "        \u001b[38;5;28;01melif\u001b[39;00m self.name \u001b[38;5;28;01mis\u001b[39;00m \u001b[38;5;28;01mNone\u001b[39;00m \u001b[38;5;28;01mor\u001b[39;00m name.startswith(self.name + \u001b[33m\":\"\u001b[39m):\n",
      "            \u001b[38;5;28;01mif\u001b[39;00m self.name \u001b[38;5;28;01mis\u001b[39;00m \u001b[38;5;28;01mNone\u001b[39;00m:\n",
      "                \u001b[38;5;66;03m# No mount name.\u001b[39;00m\n",
      "                remaining_name = name\n",
      "            \u001b[38;5;28;01melse\u001b[39;00m:\n",
      "                \u001b[38;5;66;03m# 'name' matches \"<mount_name>:<child_name>\".\u001b[39;00m\n",
      "                remaining_name = name[len(self.name) + \u001b[32m1\u001b[39m :]\n",
      "            path_kwarg = path_params.get(\u001b[33m\"path\"\u001b[39m)\n",
      "            path_params[\u001b[33m\"path\"\u001b[39m] = \u001b[33m\"\"\u001b[39m\n",
      "            path_prefix, remaining_params = replace_params(self.path_format, self.param_convertors, path_params)\n",
      "            \u001b[38;5;28;01mif\u001b[39;00m path_kwarg \u001b[38;5;28;01mis\u001b[39;00m \u001b[38;5;28;01mnot\u001b[39;00m \u001b[38;5;28;01mNone\u001b[39;00m:\n",
      "                remaining_params[\u001b[33m\"path\"\u001b[39m] = path_kwarg\n",
      "            \u001b[38;5;28;01mfor\u001b[39;00m route \u001b[38;5;28;01min\u001b[39;00m self.routes \u001b[38;5;28;01mor\u001b[39;00m []:\n",
      "                \u001b[38;5;28;01mtry\u001b[39;00m:\n",
      "                    url = route.url_path_for(remaining_name, **remaining_params)\n",
      "                    \u001b[38;5;28;01mreturn\u001b[39;00m URLPath(path=path_prefix.rstrip(\u001b[33m\"/\"\u001b[39m) + str(url), protocol=url.protocol)\n",
      "                \u001b[38;5;28;01mexcept\u001b[39;00m NoMatchFound:\n",
      "                    \u001b[38;5;28;01mpass\u001b[39;00m\n",
      "        \u001b[38;5;28;01mraise\u001b[39;00m NoMatchFound(name, path_params)\n",
      "\n",
      "    \u001b[38;5;28;01masync\u001b[39;00m \u001b[38;5;28;01mdef\u001b[39;00m handle(self, scope: Scope, receive: Receive, send: Send) -> \u001b[38;5;28;01mNone\u001b[39;00m:\n",
      "        \u001b[38;5;28;01mawait\u001b[39;00m self.app(scope, receive, send)\n",
      "\n",
      "    \u001b[38;5;28;01mdef\u001b[39;00m __eq__(self, other: typing.Any) -> bool:\n",
      "        \u001b[38;5;28;01mreturn\u001b[39;00m isinstance(other, Mount) \u001b[38;5;28;01mand\u001b[39;00m self.path == other.path \u001b[38;5;28;01mand\u001b[39;00m self.app == other.app\n",
      "\n",
      "    \u001b[38;5;28;01mdef\u001b[39;00m __repr__(self) -> str:\n",
      "        class_name = self.__class__.__name__\n",
      "        name = self.name \u001b[38;5;28;01mor\u001b[39;00m \u001b[33m\"\"\u001b[39m\n",
      "        \u001b[38;5;28;01mreturn\u001b[39;00m f\"{class_name}(path={self.path!r}, name={name!r}, app={self.app!r})\"\n",
      "\u001b[31mFile:\u001b[39m           ~/projects/cck-blog/.venv/lib/python3.12/site-packages/starlette/routing.py\n",
      "\u001b[31mType:\u001b[39m           type\n",
      "\u001b[31mSubclasses:\u001b[39m     "
     ]
    }
   ],
   "source": [
    "Mount??"
   ]
  },
  {
   "cell_type": "code",
   "execution_count": 4,
   "metadata": {},
   "outputs": [
    {
     "name": "stdout",
     "output_type": "stream",
     "text": [
      "\u001b[31mSignature:\u001b[39m\n",
      "fast_app(\n",
      "    *args,\n",
      "    pico=\u001b[38;5;28;01mFalse\u001b[39;00m,\n",
      "    db_file: Optional[str] = \u001b[38;5;28;01mNone\u001b[39;00m,\n",
      "    render: Optional[<built-\u001b[38;5;28;01min\u001b[39;00m function callable>] = \u001b[38;5;28;01mNone\u001b[39;00m,\n",
      "    hdrs: Optional[tuple] = \u001b[38;5;28;01mNone\u001b[39;00m,\n",
      "    ftrs: Optional[tuple] = \u001b[38;5;28;01mNone\u001b[39;00m,\n",
      "    tbls: Optional[dict] = \u001b[38;5;28;01mNone\u001b[39;00m,\n",
      "    before: Union[tuple, NoneType, fasthtml.core.Beforeware] = \u001b[38;5;28;01mNone\u001b[39;00m,\n",
      "    middleware: Optional[tuple] = \u001b[38;5;28;01mNone\u001b[39;00m,\n",
      "    live: bool = \u001b[38;5;28;01mFalse\u001b[39;00m,\n",
      "    debug: bool = \u001b[38;5;28;01mFalse\u001b[39;00m,\n",
      "    routes: Optional[tuple] = \u001b[38;5;28;01mNone\u001b[39;00m,\n",
      "    exception_handlers: Optional[dict] = \u001b[38;5;28;01mNone\u001b[39;00m,\n",
      "    on_startup: Optional[<built-\u001b[38;5;28;01min\u001b[39;00m function callable>] = \u001b[38;5;28;01mNone\u001b[39;00m,\n",
      "    on_shutdown: Optional[<built-\u001b[38;5;28;01min\u001b[39;00m function callable>] = \u001b[38;5;28;01mNone\u001b[39;00m,\n",
      "    lifespan: Optional[<built-\u001b[38;5;28;01min\u001b[39;00m function callable>] = \u001b[38;5;28;01mNone\u001b[39;00m,\n",
      "    default_hdrs=\u001b[38;5;28;01mTrue\u001b[39;00m,\n",
      "    surreal: Optional[bool] = \u001b[38;5;28;01mTrue\u001b[39;00m,\n",
      "    htmx: Optional[bool] = \u001b[38;5;28;01mTrue\u001b[39;00m,\n",
      "    exts: Union[list, str, NoneType] = \u001b[38;5;28;01mNone\u001b[39;00m,\n",
      "    secret_key: Optional[str] = \u001b[38;5;28;01mNone\u001b[39;00m,\n",
      "    key_fname: str = \u001b[33m'.sesskey'\u001b[39m,\n",
      "    session_cookie: str = \u001b[33m'session_'\u001b[39m,\n",
      "    max_age: int = \u001b[32m31536000\u001b[39m,\n",
      "    sess_path: str = \u001b[33m'/'\u001b[39m,\n",
      "    same_site: str = \u001b[33m'lax'\u001b[39m,\n",
      "    sess_https_only: bool = \u001b[38;5;28;01mFalse\u001b[39;00m,\n",
      "    sess_domain: Optional[str] = \u001b[38;5;28;01mNone\u001b[39;00m,\n",
      "    htmlkw: Optional[dict] = \u001b[38;5;28;01mNone\u001b[39;00m,\n",
      "    bodykw: Optional[dict] = \u001b[38;5;28;01mNone\u001b[39;00m,\n",
      "    reload_attempts: Optional[int] = \u001b[32m1\u001b[39m,\n",
      "    reload_interval: Optional[int] = \u001b[32m1000\u001b[39m,\n",
      "    static_path: str = \u001b[33m'.'\u001b[39m,\n",
      "    body_wrap: <built-\u001b[38;5;28;01min\u001b[39;00m function callable> = <function noop_body at \u001b[32m0x1115e13a0\u001b[39m>,\n",
      "    nb_hdrs: bool = \u001b[38;5;28;01mFalse\u001b[39;00m,\n",
      ")\n",
      "\u001b[31mSource:\u001b[39m   \n",
      "@delegates(fh.fast_app, but=[\u001b[33m'pico'\u001b[39m])\n",
      "\u001b[38;5;28;01mdef\u001b[39;00m fast_app(*args, pico=\u001b[38;5;28;01mFalse\u001b[39;00m, **kwargs):\n",
      "    \u001b[33m\"Create a FastHTML or FastHTMLWithLiveReload app with `bg-background text-foreground` to bodykw for frankenui themes\"\u001b[39m\n",
      "    \u001b[38;5;28;01mif\u001b[39;00m \u001b[33m'bodykw'\u001b[39m \u001b[38;5;28;01mnot\u001b[39;00m \u001b[38;5;28;01min\u001b[39;00m kwargs: kwargs[\u001b[33m'bodykw'\u001b[39m] = {}\n",
      "    \u001b[38;5;28;01mif\u001b[39;00m \u001b[33m'class'\u001b[39m \u001b[38;5;28;01mnot\u001b[39;00m \u001b[38;5;28;01min\u001b[39;00m kwargs[\u001b[33m'bodykw'\u001b[39m]: kwargs[\u001b[33m'bodykw'\u001b[39m][\u001b[33m'class'\u001b[39m] = \u001b[33m''\u001b[39m\n",
      "    kwargs[\u001b[33m'bodykw'\u001b[39m][\u001b[33m'class'\u001b[39m] = stringify((kwargs[\u001b[33m'bodykw'\u001b[39m][\u001b[33m'class'\u001b[39m],\u001b[33m'bg-background text-foreground'\u001b[39m))\n",
      "    \u001b[38;5;28;01mreturn\u001b[39;00m fh.fast_app(*args, pico=pico, **kwargs)\n",
      "\u001b[31mFile:\u001b[39m      ~/projects/cck-blog/.venv/lib/python3.12/site-packages/monsterui/core.py\n",
      "\u001b[31mType:\u001b[39m      function"
     ]
    }
   ],
   "source": [
    "fast_app??"
   ]
  },
  {
   "cell_type": "code",
   "execution_count": 5,
   "metadata": {},
   "outputs": [
    {
     "name": "stdout",
     "output_type": "stream",
     "text": [
      "\u001b[31mSignature:\u001b[39m\n",
      "render_md(\n",
      "    md_content: str,\n",
      "    class_map=\u001b[38;5;28;01mNone\u001b[39;00m,\n",
      "    class_map_mods=\u001b[38;5;28;01mNone\u001b[39;00m,\n",
      "    img_dir: str = \u001b[38;5;28;01mNone\u001b[39;00m,\n",
      ") -> fastcore.xml.FT\n",
      "\u001b[31mSource:\u001b[39m   \n",
      "\u001b[38;5;28;01mdef\u001b[39;00m render_md(md_content:str, \u001b[38;5;66;03m# Markdown content\u001b[39;00m\n",
      "             class_map=\u001b[38;5;28;01mNone\u001b[39;00m, \u001b[38;5;66;03m# Class map\u001b[39;00m\n",
      "             class_map_mods=\u001b[38;5;28;01mNone\u001b[39;00m, \u001b[38;5;66;03m# Additional class map\u001b[39;00m\n",
      "             img_dir:str=\u001b[38;5;28;01mNone\u001b[39;00m \u001b[38;5;66;03m# Directory containing images\u001b[39;00m\n",
      "             )->FT: \u001b[38;5;66;03m# Rendered markdown\u001b[39;00m\n",
      "    \u001b[33m\"Renders markdown using mistletoe and lxml with custom image handling\"\u001b[39m\n",
      "    \u001b[38;5;28;01mif\u001b[39;00m md_content==\u001b[33m''\u001b[39m: \u001b[38;5;28;01mreturn\u001b[39;00m md_content\n",
      "    renderer = get_franken_renderer(img_dir)\n",
      "    html_content = mistletoe.markdown(md_content, renderer)\n",
      "    \u001b[38;5;28;01mreturn\u001b[39;00m NotStr(apply_classes(html_content, class_map, class_map_mods))\n",
      "\u001b[31mFile:\u001b[39m      ~/projects/cck-blog/.venv/lib/python3.12/site-packages/monsterui/franken.py\n",
      "\u001b[31mType:\u001b[39m      function"
     ]
    }
   ],
   "source": [
    "render_md??"
   ]
  },
  {
   "cell_type": "code",
   "execution_count": 7,
   "metadata": {},
   "outputs": [
    {
     "name": "stdout",
     "output_type": "stream",
     "text": [
      "\u001b[31mSignature:\u001b[39m Path.readlines(self: \u001b[33m'Path'\u001b[39m, hint=-\u001b[32m1\u001b[39m, encoding=\u001b[33m'utf8'\u001b[39m)\n",
      "\u001b[31mSource:\u001b[39m   \n",
      "@patch\n",
      "\u001b[38;5;28;01mdef\u001b[39;00m readlines(self:Path, hint=-\u001b[32m1\u001b[39m, encoding=\u001b[33m'utf8'\u001b[39m):\n",
      "    \u001b[33m\"Read the content of `self`\"\u001b[39m\n",
      "    \u001b[38;5;28;01mwith\u001b[39;00m self.open(encoding=encoding) \u001b[38;5;28;01mas\u001b[39;00m f: \u001b[38;5;28;01mreturn\u001b[39;00m f.readlines(hint)\n",
      "\u001b[31mFile:\u001b[39m      ~/projects/cck-blog/.venv/lib/python3.12/site-packages/fastcore/xtras.py\n",
      "\u001b[31mType:\u001b[39m      function"
     ]
    }
   ],
   "source": [
    "Path.readlines??"
   ]
  },
  {
   "cell_type": "code",
   "execution_count": null,
   "metadata": {},
   "outputs": [],
   "source": [
    "# Migrating the old blog posts"
   ]
  },
  {
   "cell_type": "code",
   "execution_count": 7,
   "metadata": {},
   "outputs": [],
   "source": [
    "import shutil\n",
    "from pathlib import Path\n",
    "from fastcore.foundation import L\n",
    "from fastcore.basics import *\n",
    "from fastcore.xtras import *"
   ]
  },
  {
   "cell_type": "code",
   "execution_count": 3,
   "metadata": {},
   "outputs": [],
   "source": [
    "# # old path\n",
    "# old_path = Path('/Users/cck/writings/chaski/nbs/blog/posts')\n",
    "# posts = old_path.ls(); posts\n",
    "\n",
    "# bad_fnames = [\n",
    "#     '.DS_Store',\n",
    "#     'fractal-llms',\n",
    "#     'interactive.js',\n",
    "#     '_metadata.yml'\n",
    "# ]\n",
    "\n",
    "# posts = L(p for p in posts if p.name not in bad_fnames)\n",
    "\n",
    "# def remove_date(post):\n",
    "#     clean_name = post.name\n",
    "#     clean_name = clean_name.split('-')\n",
    "#     clean_name = '-'.join(clean_name[3:])\n",
    "#     return clean_name\n",
    "\n",
    "# print(\"\\n\".join(map(str, posts)))"
   ]
  },
  {
   "cell_type": "code",
   "execution_count": 4,
   "metadata": {},
   "outputs": [],
   "source": [
    "# posts.map(remove_date)"
   ]
  },
  {
   "cell_type": "code",
   "execution_count": 5,
   "metadata": {},
   "outputs": [],
   "source": [
    "# out_dir = Path('/Users/cck/projects/cck-blog/blog/')\n",
    "# for post in posts:\n",
    "#     clean_name = remove_date(post)\n",
    "#     shutil.move(old_path / post, out_dir / clean_name)\n"
   ]
  },
  {
   "cell_type": "markdown",
   "metadata": {},
   "source": [
    "# Updating list of posts\n"
   ]
  },
  {
   "cell_type": "code",
   "execution_count": 15,
   "metadata": {},
   "outputs": [
    {
     "data": {
      "text/plain": [
       "(#28) [Path('/Users/cck/projects/cck-blog/blog/fine_tune_modernBERT'),Path('/Users/cck/projects/cck-blog/blog/minimal_diffusion'),Path('/Users/cck/projects/cck-blog/blog/long_late_chunking'),Path('/Users/cck/projects/cck-blog/blog/merge_n_BSTs'),Path('/Users/cck/projects/cck-blog/blog/rayleigh_init'),Path('/Users/cck/projects/cck-blog/blog/spec_norms'),Path('/Users/cck/projects/cck-blog/blog/llms_sequence_learners'),Path('/Users/cck/projects/cck-blog/blog/llm_agents'),Path('/Users/cck/projects/cck-blog/blog/pytorch_slerp'),Path('/Users/cck/projects/cck-blog/blog/true_llm_dialogues'),Path('/Users/cck/projects/cck-blog/blog/llm_prompt_tips'),Path('/Users/cck/projects/cck-blog/blog/series/llms-course/00_overview'),Path('/Users/cck/projects/cck-blog/blog/series/llms-course/01_env'),Path('/Users/cck/projects/cck-blog/blog/series/llms-course/02_nbdev'),Path('/Users/cck/projects/cck-blog/blog/series/llms-course/03_hf_nlp_models'),Path('/Users/cck/projects/cck-blog/blog/series/llms-course/04_llama'),Path('/Users/cck/projects/cck-blog/blog/series/llms-course/05_rag'),Path('/Users/cck/projects/cck-blog/blog/series/llms-course/06_text_data'),Path('/Users/cck/projects/cck-blog/blog/series/llms-course/07_fine_tuning'),Path('/Users/cck/projects/cck-blog/blog/series/guidance-expts/guidance-expts-1')...]"
      ]
     },
     "execution_count": 15,
     "metadata": {},
     "output_type": "execute_result"
    }
   ],
   "source": [
    "\n",
    "post_path = Path('/Users/cck/projects/cck-blog/blog/')\n",
    "posts = post_path.ls()\n",
    "\n",
    "to_ignore = [\n",
    "    '.DS_Store',\n",
    "    '_TEMPLATE',\n",
    "    '_OLD_POSTS',\n",
    "    'series',\n",
    "    '00_api_tests.ipynb',\n",
    "    '_reference_post_drchrislevy.ipynb',\n",
    "    'static',\n",
    "]\n",
    "\n",
    "posts = L(p for p in posts if p.name not in to_ignore)\n",
    "\n",
    "series = [\n",
    "    'llms-course',\n",
    "    'guidance-expts',\n",
    "]\n",
    "\n",
    "for s in series:\n",
    "    series_posts = post_path / 'series' / s\n",
    "    series_posts = series_posts.ls()\n",
    "    series_posts = L(p for p in series_posts if p.name not in to_ignore).sorted()\n",
    "    posts.extend(series_posts)\n",
    "\n",
    "posts\n"
   ]
  },
  {
   "cell_type": "code",
   "execution_count": 16,
   "metadata": {},
   "outputs": [
    {
     "name": "stdout",
     "output_type": "stream",
     "text": [
      "/Users/cck/projects/cck-blog/blog/fine_tune_modernBERT\n",
      "/Users/cck/projects/cck-blog/blog/minimal_diffusion\n",
      "/Users/cck/projects/cck-blog/blog/long_late_chunking\n",
      "/Users/cck/projects/cck-blog/blog/merge_n_BSTs\n",
      "/Users/cck/projects/cck-blog/blog/rayleigh_init\n",
      "/Users/cck/projects/cck-blog/blog/spec_norms\n",
      "/Users/cck/projects/cck-blog/blog/llms_sequence_learners\n",
      "/Users/cck/projects/cck-blog/blog/llm_agents\n",
      "/Users/cck/projects/cck-blog/blog/pytorch_slerp\n",
      "/Users/cck/projects/cck-blog/blog/true_llm_dialogues\n",
      "/Users/cck/projects/cck-blog/blog/llm_prompt_tips\n",
      "/Users/cck/projects/cck-blog/blog/series/llms-course/00_overview\n",
      "/Users/cck/projects/cck-blog/blog/series/llms-course/01_env\n",
      "/Users/cck/projects/cck-blog/blog/series/llms-course/02_nbdev\n",
      "/Users/cck/projects/cck-blog/blog/series/llms-course/03_hf_nlp_models\n",
      "/Users/cck/projects/cck-blog/blog/series/llms-course/04_llama\n",
      "/Users/cck/projects/cck-blog/blog/series/llms-course/05_rag\n",
      "/Users/cck/projects/cck-blog/blog/series/llms-course/06_text_data\n",
      "/Users/cck/projects/cck-blog/blog/series/llms-course/07_fine_tuning\n",
      "/Users/cck/projects/cck-blog/blog/series/guidance-expts/guidance-expts-1\n",
      "/Users/cck/projects/cck-blog/blog/series/guidance-expts/guidance-expts-2\n",
      "/Users/cck/projects/cck-blog/blog/series/guidance-expts/guidance-expts-3\n",
      "/Users/cck/projects/cck-blog/blog/series/guidance-expts/guidance-expts-4\n",
      "/Users/cck/projects/cck-blog/blog/series/guidance-expts/guidance-expts-5\n",
      "/Users/cck/projects/cck-blog/blog/series/guidance-expts/guidance-expts-6\n",
      "/Users/cck/projects/cck-blog/blog/series/guidance-expts/guidance-expts-7\n",
      "/Users/cck/projects/cck-blog/blog/series/guidance-expts/guidance-expts-8\n",
      "/Users/cck/projects/cck-blog/blog/series/guidance-expts/sd-v2-schedules-1\n"
     ]
    }
   ],
   "source": [
    "print('\\n'.join(map(str, posts)))"
   ]
  },
  {
   "cell_type": "code",
   "execution_count": 17,
   "metadata": {},
   "outputs": [
    {
     "name": "stdout",
     "output_type": "stream",
     "text": [
      "blog/fine_tune_modernBERT/fine_tune_modernBERT.ipynb\n",
      "blog/minimal_diffusion/minimal_diffusion.ipynb\n",
      "blog/long_late_chunking/long_late_chunking.ipynb\n",
      "blog/merge_n_BSTs/merge_n_BSTs.ipynb\n",
      "blog/rayleigh_init/rayleigh_init.ipynb\n",
      "blog/spec_norms/spec_norms.ipynb\n",
      "blog/llms_sequence_learners/llms_sequence_learners.ipynb\n",
      "blog/llm_agents/llm_agents.ipynb\n",
      "blog/pytorch_slerp/pytorch_slerp.ipynb\n",
      "blog/true_llm_dialogues/true_llm_dialogues.ipynb\n",
      "blog/llm_prompt_tips/llm_prompt_tips.ipynb\n",
      "blog/series/llms-course/00_overview/00_overview.ipynb\n",
      "blog/series/llms-course/01_env/01_env.ipynb\n",
      "blog/series/llms-course/02_nbdev/02_nbdev.ipynb\n",
      "blog/series/llms-course/03_hf_nlp_models/03_hf_nlp_models.ipynb\n",
      "blog/series/llms-course/04_llama/04_llama.ipynb\n",
      "blog/series/llms-course/05_rag/05_rag.ipynb\n",
      "blog/series/llms-course/06_text_data/06_text_data.ipynb\n",
      "blog/series/llms-course/07_fine_tuning/07_fine_tuning.ipynb\n",
      "blog/series/guidance-expts/guidance-expts-1/guidance-expts-1.ipynb\n",
      "blog/series/guidance-expts/guidance-expts-2/guidance-expts-2.ipynb\n",
      "blog/series/guidance-expts/guidance-expts-3/guidance-expts-3.ipynb\n",
      "blog/series/guidance-expts/guidance-expts-4/guidance-expts-4.ipynb\n",
      "blog/series/guidance-expts/guidance-expts-5/guidance-expts-5.ipynb\n",
      "blog/series/guidance-expts/guidance-expts-6/guidance-expts-6.ipynb\n",
      "blog/series/guidance-expts/guidance-expts-7/guidance-expts-7.ipynb\n",
      "blog/series/guidance-expts/guidance-expts-8/guidance-expts-8.ipynb\n",
      "blog/series/guidance-expts/sd-v2-schedules-1/sd-v2-schedules-1.ipynb\n"
     ]
    }
   ],
   "source": [
    "\n",
    "articles = []\n",
    "for p in posts:\n",
    "    stem = p.stem\n",
    "    name = str(p).replace('/Users/cck/projects/cck-blog/blog/', 'blog/')\n",
    "    full_name = Path(name) / stem\n",
    "    post_name = f'{full_name}.ipynb'\n",
    "    print(post_name)\n",
    "    articles.append(post_name)\n"
   ]
  },
  {
   "cell_type": "code",
   "execution_count": 19,
   "metadata": {},
   "outputs": [],
   "source": [
    "\n",
    "with open('../blog_list.txt', 'w') as f:\n",
    "    f.write('\\n'.join(articles))\n"
   ]
  }
 ],
 "metadata": {
  "kernelspec": {
   "display_name": ".venv",
   "language": "python",
   "name": "python3"
  },
  "language_info": {
   "codemirror_mode": {
    "name": "ipython",
    "version": 3
   },
   "file_extension": ".py",
   "mimetype": "text/x-python",
   "name": "python",
   "nbconvert_exporter": "python",
   "pygments_lexer": "ipython3",
   "version": "3.12.6"
  }
 },
 "nbformat": 4,
 "nbformat_minor": 2
}
