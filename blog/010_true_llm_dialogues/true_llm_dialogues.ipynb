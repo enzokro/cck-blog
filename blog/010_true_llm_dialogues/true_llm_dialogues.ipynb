{
 "cells": [
  {
   "cell_type": "raw",
   "metadata": {
    "vscode": {
     "languageId": "raw"
    }
   },
   "source": [
    "---\n",
    "title: What does a real dialogue with LLMs look like?\n",
    "author: Chris Kroenke\n",
    "draft: false\n",
    "date: '2025-05-05'\n",
    "date-modified: '2025-05-05'\n",
    "image: LLMDialogues_title_image.png\n",
    "toc: true\n",
    "description: A future beyond discrete, turn-based LLM conversations. \n",
    "tags:\n",
    "  - LLMs\n",
    "format:\n",
    "  html:\n",
    "    code-fold: show\n",
    "    page-layout: full\n",
    "    grid:\n",
    "      body-width: 1200px\n",
    "include-in-header:\n",
    "  - text: |\n",
    "      <style>\n",
    "      .cell-output-stdout code {\n",
    "        word-break: break-word !important;\n",
    "        white-space: pre-wrap !important;\n",
    "      }\n",
    "      </style>\n",
    "---"
   ]
  },
  {
   "cell_type": "markdown",
   "metadata": {},
   "source": [
    "# Introduction"
   ]
  },
  {
   "cell_type": "markdown",
   "metadata": {},
   "source": [
    "This is a hopefuly post, looking to the future of what might be in the world of LLMs."
   ]
  }
 ],
 "metadata": {
  "language_info": {
   "name": "python"
  }
 },
 "nbformat": 4,
 "nbformat_minor": 2
}
