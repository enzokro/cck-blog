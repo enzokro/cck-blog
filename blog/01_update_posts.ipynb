{
 "cells": [
  {
   "cell_type": "markdown",
   "metadata": {},
   "source": [
    "# Update list of blog posts on the fly"
   ]
  },
  {
   "cell_type": "code",
   "execution_count": 7,
   "metadata": {},
   "outputs": [],
   "source": [
    "import shutil\n",
    "from pathlib import Path\n",
    "from fastcore.foundation import L\n",
    "from fastcore.basics import *\n",
    "from fastcore.xtras import *"
   ]
  },
  {
   "cell_type": "markdown",
   "metadata": {},
   "source": [
    "# Updating list of posts\n"
   ]
  },
  {
   "cell_type": "code",
   "execution_count": 15,
   "metadata": {},
   "outputs": [
    {
     "data": {
      "text/plain": [
       "(#28) [Path('/Users/cck/projects/cck-blog/blog/fine_tune_modernBERT'),Path('/Users/cck/projects/cck-blog/blog/minimal_diffusion'),Path('/Users/cck/projects/cck-blog/blog/long_late_chunking'),Path('/Users/cck/projects/cck-blog/blog/merge_n_BSTs'),Path('/Users/cck/projects/cck-blog/blog/rayleigh_init'),Path('/Users/cck/projects/cck-blog/blog/spec_norms'),Path('/Users/cck/projects/cck-blog/blog/llms_sequence_learners'),Path('/Users/cck/projects/cck-blog/blog/llm_agents'),Path('/Users/cck/projects/cck-blog/blog/pytorch_slerp'),Path('/Users/cck/projects/cck-blog/blog/true_llm_dialogues'),Path('/Users/cck/projects/cck-blog/blog/llm_prompt_tips'),Path('/Users/cck/projects/cck-blog/blog/series/llms-course/00_overview'),Path('/Users/cck/projects/cck-blog/blog/series/llms-course/01_env'),Path('/Users/cck/projects/cck-blog/blog/series/llms-course/02_nbdev'),Path('/Users/cck/projects/cck-blog/blog/series/llms-course/03_hf_nlp_models'),Path('/Users/cck/projects/cck-blog/blog/series/llms-course/04_llama'),Path('/Users/cck/projects/cck-blog/blog/series/llms-course/05_rag'),Path('/Users/cck/projects/cck-blog/blog/series/llms-course/06_text_data'),Path('/Users/cck/projects/cck-blog/blog/series/llms-course/07_fine_tuning'),Path('/Users/cck/projects/cck-blog/blog/series/guidance-expts/guidance-expts-1')...]"
      ]
     },
     "execution_count": 15,
     "metadata": {},
     "output_type": "execute_result"
    }
   ],
   "source": [
    "\n",
    "post_path = Path('/Users/cck/projects/cck-blog/blog/')\n",
    "posts = post_path.ls()\n",
    "\n",
    "to_ignore = [\n",
    "    '.DS_Store',\n",
    "    '_TEMPLATE',\n",
    "    'series',\n",
    "    'static',\n",
    "    '00_api_tests.ipynb',\n",
    "    '01_update_posts.ipynb',\n",
    "]\n",
    "\n",
    "posts = L(p for p in posts if p.name not in to_ignore)\n",
    "\n",
    "# add series here, in order you'd like them to appear\n",
    "series = [\n",
    "    'llms-course',\n",
    "    'guidance-expts',\n",
    "]\n",
    "\n",
    "# NOTE: the /series/ path is important, we use it to group posts\n",
    "for s in series:\n",
    "    series_posts = post_path / 'series' / s\n",
    "    series_posts = series_posts.ls()\n",
    "    series_posts = L(p for p in series_posts if p.name not in to_ignore).sorted()\n",
    "    posts.extend(series_posts)\n",
    "\n",
    "# posts\n"
   ]
  },
  {
   "cell_type": "code",
   "execution_count": 16,
   "metadata": {},
   "outputs": [
    {
     "name": "stdout",
     "output_type": "stream",
     "text": [
      "/Users/cck/projects/cck-blog/blog/fine_tune_modernBERT\n",
      "/Users/cck/projects/cck-blog/blog/minimal_diffusion\n",
      "/Users/cck/projects/cck-blog/blog/long_late_chunking\n",
      "/Users/cck/projects/cck-blog/blog/merge_n_BSTs\n",
      "/Users/cck/projects/cck-blog/blog/rayleigh_init\n",
      "/Users/cck/projects/cck-blog/blog/spec_norms\n",
      "/Users/cck/projects/cck-blog/blog/llms_sequence_learners\n",
      "/Users/cck/projects/cck-blog/blog/llm_agents\n",
      "/Users/cck/projects/cck-blog/blog/pytorch_slerp\n",
      "/Users/cck/projects/cck-blog/blog/true_llm_dialogues\n",
      "/Users/cck/projects/cck-blog/blog/llm_prompt_tips\n",
      "/Users/cck/projects/cck-blog/blog/series/llms-course/00_overview\n",
      "/Users/cck/projects/cck-blog/blog/series/llms-course/01_env\n",
      "/Users/cck/projects/cck-blog/blog/series/llms-course/02_nbdev\n",
      "/Users/cck/projects/cck-blog/blog/series/llms-course/03_hf_nlp_models\n",
      "/Users/cck/projects/cck-blog/blog/series/llms-course/04_llama\n",
      "/Users/cck/projects/cck-blog/blog/series/llms-course/05_rag\n",
      "/Users/cck/projects/cck-blog/blog/series/llms-course/06_text_data\n",
      "/Users/cck/projects/cck-blog/blog/series/llms-course/07_fine_tuning\n",
      "/Users/cck/projects/cck-blog/blog/series/guidance-expts/guidance-expts-1\n",
      "/Users/cck/projects/cck-blog/blog/series/guidance-expts/guidance-expts-2\n",
      "/Users/cck/projects/cck-blog/blog/series/guidance-expts/guidance-expts-3\n",
      "/Users/cck/projects/cck-blog/blog/series/guidance-expts/guidance-expts-4\n",
      "/Users/cck/projects/cck-blog/blog/series/guidance-expts/guidance-expts-5\n",
      "/Users/cck/projects/cck-blog/blog/series/guidance-expts/guidance-expts-6\n",
      "/Users/cck/projects/cck-blog/blog/series/guidance-expts/guidance-expts-7\n",
      "/Users/cck/projects/cck-blog/blog/series/guidance-expts/guidance-expts-8\n",
      "/Users/cck/projects/cck-blog/blog/series/guidance-expts/sd-v2-schedules-1\n"
     ]
    }
   ],
   "source": [
    "# print('\\n'.join(map(str, posts)))"
   ]
  },
  {
   "cell_type": "code",
   "execution_count": 17,
   "metadata": {},
   "outputs": [
    {
     "name": "stdout",
     "output_type": "stream",
     "text": [
      "blog/fine_tune_modernBERT/fine_tune_modernBERT.ipynb\n",
      "blog/minimal_diffusion/minimal_diffusion.ipynb\n",
      "blog/long_late_chunking/long_late_chunking.ipynb\n",
      "blog/merge_n_BSTs/merge_n_BSTs.ipynb\n",
      "blog/rayleigh_init/rayleigh_init.ipynb\n",
      "blog/spec_norms/spec_norms.ipynb\n",
      "blog/llms_sequence_learners/llms_sequence_learners.ipynb\n",
      "blog/llm_agents/llm_agents.ipynb\n",
      "blog/pytorch_slerp/pytorch_slerp.ipynb\n",
      "blog/true_llm_dialogues/true_llm_dialogues.ipynb\n",
      "blog/llm_prompt_tips/llm_prompt_tips.ipynb\n",
      "blog/series/llms-course/00_overview/00_overview.ipynb\n",
      "blog/series/llms-course/01_env/01_env.ipynb\n",
      "blog/series/llms-course/02_nbdev/02_nbdev.ipynb\n",
      "blog/series/llms-course/03_hf_nlp_models/03_hf_nlp_models.ipynb\n",
      "blog/series/llms-course/04_llama/04_llama.ipynb\n",
      "blog/series/llms-course/05_rag/05_rag.ipynb\n",
      "blog/series/llms-course/06_text_data/06_text_data.ipynb\n",
      "blog/series/llms-course/07_fine_tuning/07_fine_tuning.ipynb\n",
      "blog/series/guidance-expts/guidance-expts-1/guidance-expts-1.ipynb\n",
      "blog/series/guidance-expts/guidance-expts-2/guidance-expts-2.ipynb\n",
      "blog/series/guidance-expts/guidance-expts-3/guidance-expts-3.ipynb\n",
      "blog/series/guidance-expts/guidance-expts-4/guidance-expts-4.ipynb\n",
      "blog/series/guidance-expts/guidance-expts-5/guidance-expts-5.ipynb\n",
      "blog/series/guidance-expts/guidance-expts-6/guidance-expts-6.ipynb\n",
      "blog/series/guidance-expts/guidance-expts-7/guidance-expts-7.ipynb\n",
      "blog/series/guidance-expts/guidance-expts-8/guidance-expts-8.ipynb\n",
      "blog/series/guidance-expts/sd-v2-schedules-1/sd-v2-schedules-1.ipynb\n"
     ]
    }
   ],
   "source": [
    "# group the full list of articles to be rendered\n",
    "\n",
    "articles = []\n",
    "for p in posts:\n",
    "    stem = p.stem\n",
    "    name = str(p).replace('/Users/cck/projects/cck-blog/blog/', 'blog/')\n",
    "    full_name = Path(name) / stem\n",
    "    post_name = f'{full_name}.ipynb'\n",
    "    print(post_name)\n",
    "    articles.append(post_name)\n"
   ]
  },
  {
   "cell_type": "code",
   "execution_count": 19,
   "metadata": {},
   "outputs": [],
   "source": [
    "# if everything looks good, we can write them out\n",
    "with open('../blog_list.txt', 'w') as f:\n",
    "    f.write('\\n'.join(articles))\n"
   ]
  }
 ],
 "metadata": {
  "kernelspec": {
   "display_name": ".venv",
   "language": "python",
   "name": "python3"
  },
  "language_info": {
   "codemirror_mode": {
    "name": "ipython",
    "version": 3
   },
   "file_extension": ".py",
   "mimetype": "text/x-python",
   "name": "python",
   "nbconvert_exporter": "python",
   "pygments_lexer": "ipython3",
   "version": "3.12.6"
  }
 },
 "nbformat": 4,
 "nbformat_minor": 2
}
