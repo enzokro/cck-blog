{
 "cells": [
  {
   "cell_type": "raw",
   "metadata": {
    "vscode": {
     "languageId": "raw"
    }
   },
   "source": [
    "---\n",
    "title: \"Syllabus: Fractal-U Course on LLMs\"\n",
    "author: \"Chris Kroenke\"\n",
    "date: \"2023-09-25\"\n",
    "toc: true\n",
    "badges: true\n",
    "categories: [fractal, python, LLM]\n",
    "image: fractal-llm-mascot.png\n",
    "jupyter: python3\n",
    "---"
   ]
  },
  {
   "cell_type": "markdown",
   "metadata": {},
   "source": [
    "> Overview and motivations for the Fractal-U LLM Course."
   ]
  },
  {
   "cell_type": "markdown",
   "metadata": {},
   "source": [
    "# Intro"
   ]
  },
  {
   "cell_type": "markdown",
   "metadata": {},
   "source": [
    "In this course, we will create our own AI Assistant. The Assistant will be an augmented and fine-tuned open-source Large Language Model (LLM).  \n",
    "\n",
    "So, what exactly is an AI Assistant? And why would we want to make one?  \n",
    "\n",
    "There is a lot of excitement around AI assistants and agents. People are thinking of a future where everyone has powerful, personalized helpers at their fingertips. These future agents promise to make our lives easier and more comfortable. They are the manifest AIs of Science Fiction: TARS from Interstellar, HAL 9000 from Space Odyssey, Iron Man's Jarvis, etc."
   ]
  },
  {
   "cell_type": "markdown",
   "metadata": {},
   "source": [
    "## Realistic Assistants"
   ]
  },
  {
   "cell_type": "markdown",
   "metadata": {},
   "source": [
    "Despite rapid improvements in LLMs, AI Assistants as powerful as those are still a ways off. It is hard, if not impossible, to predict the exact timelines. Perhaps we can safely say that Assistants of that caliber won't be here anytime \"soon.\" But, outside of some force majeure, they *will* exist at some point.   \n",
    "\n",
    "As of writing, there is a large gap between the advanced Assistants of the future, and the hallucinations and steep compute of today's LLMs. "
   ]
  },
  {
   "cell_type": "markdown",
   "metadata": {},
   "source": [
    "## Building an AI Assistant"
   ]
  },
  {
   "cell_type": "markdown",
   "metadata": {},
   "source": [
    "The aim of this course it to help close that gap. We have a strong path forward, as this announcement [from OpenAI](https://twitter.com/gdb/status/1694107518488981868) shows: fine-tuning GPT-3.5 on small, clean datasets can surpass GPT-4 on certain tasks.  \n",
    "\n",
    "*That's* the kind of Assistant we are aiming for. In other words, we already have the ability to develop powerful AI tools by fine-tuning LLMs on small, clean datasets.  "
   ]
  },
  {
   "cell_type": "markdown",
   "metadata": {},
   "source": [
    "Think of our Assistant like a smart Rubber Duck. A Rubber Duck is some object on our desk that we talk to about our work. It is a physical tool for thought, since it's so often helpful to speak out loud the swirl of thoughts in our heads.  "
   ]
  },
  {
   "cell_type": "markdown",
   "metadata": {},
   "source": [
    "But it won't be a silent thing on a desk. Our Assistant will be able to talk with us. When we ask it a question about our work, it will respond given what it knows about the entire project. Or if we are simply verbalizing a thought to untangle it, the Assistant can give us feedback and suggest other ideas.  "
   ]
  },
  {
   "cell_type": "markdown",
   "metadata": {},
   "source": [
    "We are aiming for something far more than a simple chatbot. If we can be so bold: our Assistant will be a mini-Jarvis laser-focused on a specific task.   "
   ]
  },
  {
   "cell_type": "markdown",
   "metadata": {},
   "source": [
    "> Course Summary: We will fine-tune and augment an LLM on a small, clean dataset to build an intelligent Rubber Duck.  "
   ]
  },
  {
   "cell_type": "markdown",
   "metadata": {},
   "source": [
    "# Course Overview"
   ]
  },
  {
   "cell_type": "markdown",
   "metadata": {},
   "source": [
    "This course will equip us with a full development workflow to leverage the latest progress in LLMs. Our Rubber Duck will be able to weave in the latest models and techniques."
   ]
  },
  {
   "cell_type": "markdown",
   "metadata": {},
   "source": [
    "There are seven total lessons. Each lesson lives inside a Jupyter Notebook. The notebooks do build on each other, but each one is self-contained and reviewable on its own.   "
   ]
  },
  {
   "cell_type": "markdown",
   "metadata": {},
   "source": [
    "Here is an outline of the lessons:"
   ]
  },
  {
   "cell_type": "markdown",
   "metadata": {},
   "source": [
    "**1. Python environments for LLMs**  \n",
    "\n",
    "> Using mamba and pip to create isolated, reproducible python environments.   \n",
    "\n",
    "**2. Blogging with nbdev**  \n",
    "\n",
    "> Setting up a blog with nbdev and github pages.    \n",
    "\n",
    "**3. Running HuggingFace NLP models**    \n",
    "\n",
    "> Using the HuggingFace API to run NLP models.\n",
    "\n",
    "**4. Running optimized LLMs with llama.cpp**    \n",
    "\n",
    "> Running quantized, optimized LLMs.      \n",
    "\n",
    "**5. Processing text documents for LLMs**    \n",
    "\n",
    "> Preparing text data for fine-tuning and Retrieval Augmented Generation (RAG)    \n",
    "\n",
    "**6. Fine-tuning LLMs on a GPU**    \n",
    "\n",
    "> Scripts to efficiently fine-tune LLMs    \n",
    "\n",
    "**7. Running fine-tuned LLMs locally on your phone**    \n",
    "\n",
    "> Deploying fine-tuned, quantized LLMs on mobile devices   "
   ]
  },
  {
   "cell_type": "markdown",
   "metadata": {},
   "source": [
    "This is a public-facing course. Students are meant to write about their journey to both track and cement their progress.  \n",
    "\n",
    "Publishing our work casts it under a new, critical light and becomes a powerful tool for learning. Your understanding of a topic is also crystallized by seeing how others approached the same problem. \n",
    "\n",
    "It is admittedly hard to blog out in the open. But, we hope to make it as easy and rewarding as possible."
   ]
  },
  {
   "cell_type": "markdown",
   "metadata": {},
   "source": [
    "# Course Philosophy"
   ]
  },
  {
   "cell_type": "markdown",
   "metadata": {},
   "source": [
    "Jupyter Notebooks are the modern digital versions of field journals. The striking samples below from [this Wired article](https://www.wired.com/2011/07/science-field-notes-gallery/) show what science can be, at its best and most alive:"
   ]
  },
  {
   "cell_type": "markdown",
   "metadata": {},
   "source": [
    "![](static/imgs/field-notes-butterflies.jpg)\n",
    "![](static/imgs/field-notes-grinnell.jpg)\n",
    "![](static/imgs/field-notes-lynx.jpg)"
   ]
  },
  {
   "cell_type": "markdown",
   "metadata": {},
   "source": [
    "Let's focus in on the last example: the field notes about a lynx.  \n",
    "\n",
    "Notice how we're not getting a long description of what a Lynx is *supposed* to look like. Neither are we looking at a wall of pictures with no context. The field note offers the best of both worlds: short and relevant descriptions next to clear, working examples. Good field notes bridge the gap between the written, theoretical and the actual, practical."
   ]
  },
  {
   "cell_type": "markdown",
   "metadata": {},
   "source": [
    "Notebooks do for programming what these field notes did for the lynx. With them, we can interactively describe what's being done, show people the data, and make sure that the results are correct. We can also, crucially, show any mistakes and struggles along the way.  "
   ]
  },
  {
   "cell_type": "markdown",
   "metadata": {},
   "source": [
    "This tight loop between what we're doing (*code*), describing what we're doing (*documentation*), and making sure that it's correct (*tests*) is a great way to approach research. More importantly, it is an incredibly powerful way to communicate and share ideas. "
   ]
  },
  {
   "cell_type": "markdown",
   "metadata": {},
   "source": [
    "Each lesson is like an interactive field journal. You should feel as if someone is walking you through an experiment, talking throughout the process. You can also be an active participant by running the code and making changes, or trying new ideas."
   ]
  },
  {
   "cell_type": "markdown",
   "metadata": {},
   "source": [
    "# Conclusion"
   ]
  },
  {
   "cell_type": "markdown",
   "metadata": {},
   "source": [
    "This notebook introduced the goals and approach for the Fractal-U LLMs course. To recap: we will fine-tune and augment an open-source LLM to create an AI Assistant that helps us with our creative and educational work. "
   ]
  },
  {
   "cell_type": "markdown",
   "metadata": {},
   "source": [
    "Thank you for coming along on this journey. In the next notebooks, we will learn a complete workflow to create a powerful Assistant. And we will have tons of fun along the way.  "
   ]
  }
 ],
 "metadata": {
  "kernelspec": {
   "display_name": "python3",
   "language": "python",
   "name": "python3"
  },
  "language_info": {
   "codemirror_mode": {
    "name": "ipython",
    "version": 3
   },
   "file_extension": ".py",
   "mimetype": "text/x-python",
   "name": "python",
   "nbconvert_exporter": "python",
   "pygments_lexer": "ipython3",
   "version": "3.11.6"
  }
 },
 "nbformat": 4,
 "nbformat_minor": 4
}
